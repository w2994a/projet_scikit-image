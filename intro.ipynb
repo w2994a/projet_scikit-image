{
 "cells": [
  {
   "cell_type": "markdown",
   "id": "c8c5fd49-92a2-482f-8c2d-327f1819606f",
   "metadata": {
    "tags": []
   },
   "source": [
    "# Introduction à la manipulation et à l'analyse d'images en Python\n",
    "\n",
    "La manipulation et l'analise d'images en python est réaliser à l'aide du module [scikit-image](https://scikit-image.org/), qui un des nombreux projets de base de [scipy stack](https://www.scipy.org/docs.html)]. Il éxiste d'autres module permettant de réaliser de l'analise d'image tel que [Pillow](https://python-pillow.org/), [SimpleITK](https://simpleitk.org/), et tant d'autres.\n",
    "\n",
    "Ce module est un dès plus utilisé pour la manipulation et l'analise d'image en python. La toute première version de scikit-image remonte à août 2009. La version actuelle, et celle utilisé dans cette démonstration de l'utilisation du module, est la version 0.18.3. Le dépot GitHub du projet scikit-image est consultable [ici](https://github.com/scikit-image).\n",
    "\n",
    "Il est principalement utilisé pour réaliser de la segmentation, du filtrage, de la transformation que nous allons aborder au cours de cette introduction. L'installation du module à partir des gestionnaires de packages [pip](https://pypi.org/) et [conda](https://anaconda.org/) à l'aide des commandes suivantes.  \n",
    "\n",
    "```bash\n",
    "# installation with conda :\n",
    "conda install -c conda-forge scikit-image\n",
    "\n",
    "# installation with pip :\n",
    "## Debian/Ubuntu :\n",
    "sudo apt-get install python-skimage\n",
    "## OSX :\n",
    "pip install scikit-image\n",
    "```"
   ]
  },
  {
   "cell_type": "markdown",
   "id": "702a302f-4318-40a4-ad44-3fa137bac93a",
   "metadata": {},
   "source": [
    "## contexte (william)\n",
    "\n",
    "La miscroscopie est une technologie qui permet de stimuler les découvertes en biologie. Aujourd'hui beaucoup de résultats basé sur des images de microscopie demande une analyse quantitative. Il est donc nécéssaire de réaliser l'interprétation quantitative du contenu des images en microscopie et détecter automatiquement les objets et réaliser des mesures sur ses objets. Tout comme en génétique l'imagerie génère enormément de données. On pourrais parler de \"microscomique\", comme on parle de génomique pour l'analyse de données massive en génétique ou de protéomique et métabolomique.\n",
    "\n",
    "\n",
    "\n",
    "\n",
    "## objectifs (willliam)\n",
    "\n",
    "L'objectif est d'explorer en surface le module scikit-image. Nous allons donc réaliser une segmentation de l'image (détection des objets de l'image), Nous monterrons comment fitrer les objets abérants. Nous réaliseront aussi une identification des noyaux, et déterminerons la corespondance cellulaire des fluorochromes. Ensuite nous réaliserons des mesures simple de la taille, la fluorescence, la gralunométrie des objets de d'une image.\n",
    "\n",
    "## ...\n",
    "\n",
    "\n",
    "# « Images » Manipulation et analyse d'images en Python\n",
    "\n",
    "Manipulation d’une image de microscopie avec scikit-image et analyses basiques.\n",
    "  \n",
    "## Questions et points à aborder ou à traiter :  \n",
    "\n",
    "- Comment est codée informatiquement une image ?  (jeyani)\n",
    "- Présenter les données : Quelles différences y a-t-il entre une image au format .tif et des formats d’images plus communs comme le .jpeg ? Quel intérêt d’utiliser le premier format en microscopie ?  (jeyani)\n",
    "- Comment est composée l’image fournie dans comme donnée (différents canaux) ?  (tristan)\n",
    "- Comment ouvrir et afficher l’image avec scikit-image ? (tristan)\n",
    "\n",
    "Choisir un canal (par exemple le bleu) et extraire les principaux objets :  \n",
    "    - Segmenter l’image (justifier le choix du seuil)\n",
    "    - Identifier les objets et filtrer les objets aberrants  \n",
    "    - Effectuer quelques mesures simples (taille, fluorescence  \n",
    "\n"
   ]
  },
  {
   "cell_type": "markdown",
   "id": "bab53fea-46fc-424a-857c-01340b76f0fd",
   "metadata": {},
   "source": [
    "## Questions et points à aborder ou à traiter :  \n",
    "\n",
    "### Comment est codée informatiquement une image ?  (jeyani)\n",
    "\n",
    "En informatique, une image constitue une représentation binaire d'une information visuelle. Cette information peut être un dessin, une image ou encore un graphe. Afin qu'un ordinateur puisse stocker une image, chaque pixel de cette dernière sera représenté par une valeur binaire. Le nombre de bits utilisé définie le nombre de couleur présent dans une image. Nous considérons que pour un nombre x de bits nous aurons 2x couleurs dans notre image. Pour le cas d'une image ne contenant que deux couleurs (noir et blanche) un bit sera suffira pour représenter les couleurs, nous attribuerons la valeur 0 à la couleur noir et 1 à la couleur blanche.\n",
    "\n",
    "### Présenter les données : Quelles différences y a-t-il entre une image au format .tif et des formats d’images plus communs comme le .jpeg ? Quel intérêt d’utiliser le premier format en microscopie ?  (jeyani)\n",
    "\n",
    "Dans le cadre de notre analyse d’image nous disposons de trois images de microscopie de fluorescence au format .tif. Une image peut être stockée sous différents formats comme par exemple les formats : .jpeg, .png, .gif et .tif.  La principale différence entre le format .tif et les autres formats qui sont des formats qui sont plus communément utilisés est la suivante : le format TIFF ne présente pas de compression, dans le cas où il y aurait une compression cela n’impacte pas la qualité de l’image observée. Ce manque de compression implique que la taille du  fichier sera élevée. Le format .tif est donc utilisé pour avoir des images de haute résolution/qualité qui permet d’avoir des images avec des détails important ce qui est idéal pour observer des images de microscopie.\n",
    "\n",
    "- Comment est composée l’image fournie dans comme donnée (différents canaux) ?  (tristan)\n",
    "- Comment ouvrir et afficher l’image avec scikit-image ? (tristan)\n",
    "\n",
    "Choosir un canal (par exemple le bleu) et extraire les principaux objets :  \n",
    "    - Segmenter l’image (justifier le choix du seuil)\n",
    "    - Identifier les objets et filtrer les objets aberrants  \n",
    "\n",
    "- Effectuer quelques mesures simples (taille, fluorescence  "
   ]
  },
  {
   "cell_type": "code",
   "execution_count": null,
   "id": "a399ab36-3e6b-40c3-8aa0-3df77ca1e530",
   "metadata": {},
   "outputs": [],
   "source": []
  }
 ],
 "metadata": {
  "kernelspec": {
   "display_name": "Python 3 (ipykernel)",
   "language": "python",
   "name": "python3"
  },
  "language_info": {
   "codemirror_mode": {
    "name": "ipython",
    "version": 3
   },
   "file_extension": ".py",
   "mimetype": "text/x-python",
   "name": "python",
   "nbconvert_exporter": "python",
   "pygments_lexer": "ipython3",
   "version": "3.8.11"
  }
 },
 "nbformat": 4,
 "nbformat_minor": 5
}
