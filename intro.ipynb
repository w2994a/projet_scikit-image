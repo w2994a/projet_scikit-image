{
 "cells": [
  {
   "cell_type": "code",
   "execution_count": 1,
   "id": "ee1e9925-46f0-4c68-9d3d-6a63c89f1561",
   "metadata": {},
   "outputs": [],
   "source": [
    "import numpy as np\n",
    "import matplotlib.pyplot as plt\n",
    "\n",
    "%matplotlib inline"
   ]
  },
  {
   "cell_type": "markdown",
   "id": "c8c5fd49-92a2-482f-8c2d-327f1819606f",
   "metadata": {
    "tags": []
   },
   "source": [
    "# Introduction à la manipulation et à l'analyse d'images en Python\n",
    "\n",
    "La manipulation et l'analise d'images en python est réaliser à l'aide du module [scikit-image](https://scikit-image.org/), qui un des nombreux projets de base de [scipy stack](https://www.scipy.org/docs.html). Il éxiste d'autres module permettant de réaliser de l'analise d'image tel que [Pillow](https://python-pillow.org/), [SimpleITK](https://simpleitk.org/), et tant d'autres.\n",
    "\n",
    "Ce module est un dès plus utilisé pour la manipulation et l'analise d'image en python. La toute première version de scikit-image remonte à août 2009. La version actuelle, et celle utilisé dans cette démonstration de l'utilisation du module, est la version 0.18.3. Le dépot GitHub du projet scikit-image est consultable [ici](https://github.com/scikit-image).\n",
    "\n",
    "Il est principalement utilisé pour réaliser de la segmentation, du filtrage, de la transformation que nous allons aborder au cours de cette introduction. L'installation du module à partir des gestionnaires de packages [pip](https://pypi.org/) et [conda](https://anaconda.org/) à l'aide des commandes suivantes.  \n",
    "\n",
    "```bash\n",
    "# installation with conda :\n",
    "conda install -c conda-forge scikit-image\n",
    "\n",
    "# installation with pip :\n",
    "## Debian/Ubuntu :\n",
    "sudo apt-get install python-skimage\n",
    "## OSX :\n",
    "pip install scikit-image\n",
    "```"
   ]
  },
  {
   "cell_type": "markdown",
   "id": "702a302f-4318-40a4-ad44-3fa137bac93a",
   "metadata": {},
   "source": [
    "## Contexte\n",
    "\n",
    "La miscroscopie est une technologie qui permet de stimuler les découvertes en biologie. Aujourd'hui beaucoup de résultats basé sur des images de microscopie demande une analyse quantitative. Il est donc nécéssaire de réaliser l'interprétation quantitative du contenu des images en microscopie et détecter automatiquement les objets et réaliser des mesures sur ses objets. Tout comme en génétique l'imagerie génère enormément de données. On pourrais parler de \"microscomique\", comme on parle de génomique pour l'analyse de données massive en génétique ou de protéomique et métabolomique.\n",
    "\n",
    "\n",
    "\n",
    "\n",
    "## Objectifs\n",
    "\n",
    "L'objectif est d'explorer en surface le module scikit-image. Nous allons donc réaliser une segmentation de l'image (détection des objets de l'image), Nous monterrons comment fitrer les objets abérants. Nous réaliseront aussi une identification des noyaux, et déterminerons la corespondance cellulaire des fluorochromes. Ensuite nous réaliserons des mesures simple de la taille, la fluorescence, la gralunométrie des objets de d'une image."
   ]
  },
  {
   "cell_type": "markdown",
   "id": "bab53fea-46fc-424a-857c-01340b76f0fd",
   "metadata": {},
   "source": [
    "## Comment est codée informatiquement une image ?\n",
    "\n",
    "En informatique, une image constitue une représentation binaire d'une information visuelle. Cette information peut être un dessin, une image ou encore un graphe. Afin qu'un ordinateur puisse stocker une image, chaque pixel de cette dernière sera représenté par une valeur ou un tuple de valeur. S'il s'agit d'une image en noir et blanc (niveaux de gris), chaque pixel est représenté par un nombre décimal compris entre 0 et 1, sachant que la valeur 0 correspond à un pixel éteint (couleur noir) et 1 à un pixel alumé (couleur blanche). S'il s'agit d'une image en couleur, plus précisement en rgb, chaque pixel est représenté par un tuple de 3 entiers compris entre 0 et 255.  \n",
    "\n",
    "Le nombre de bits utilisé définie le nombre de couleur présent dans une image. Nous considérons que pour un nombre x de bits nous aurons 2x couleurs dans notre image.  \n",
    "Ci-dessous deux exemples de représentation d'une image :  \n",
    "\n",
    "- Dans le premier exemple nous allons créer un tableau contenant des valeurs dans le but de créer une image en noir et blanc."
   ]
  },
  {
   "cell_type": "code",
   "execution_count": 10,
   "id": "e6d5e9b6-0e8b-4c89-8817-c5e54aa2ecde",
   "metadata": {},
   "outputs": [
    {
     "name": "stdout",
     "output_type": "stream",
     "text": [
      "Le tableau permettant la création de l'image est le suivant : \n",
      "[[1.  1.  1.  1.  1.  1. ]\n",
      " [1.  0.5 1.  1.  0.5 1. ]\n",
      " [1.  0.  1.  1.  0.  1. ]\n",
      " [1.  1.  1.  1.  1.  1. ]\n",
      " [1.  0.  0.  0.  0.  1. ]\n",
      " [1.  1.  1.  1.  1.  1. ]]\n",
      "\n"
     ]
    },
    {
     "data": {
      "image/png": "[encoded data removed]",
      "text/plain": [
       "<Figure size 432x288 with 1 Axes>"
      ]
     },
     "metadata": {
      "needs_background": "light"
     },
     "output_type": "display_data"
    }
   ],
   "source": [
    "smiley = np.array([[1,1,1,1,1,1],\n",
    "                  [1,0.5,1,1,0.5,1],\n",
    "                   [1,0,1,1,0,1],\n",
    "                  [1,1,1,1,1,1],\n",
    "                  [1,0,0,0,0,1],\n",
    "                  [1,1,1,1,1,1]])\n",
    "\n",
    "print(f\"Le tableau permettant la création de l'image est le suivant : \"\n",
    "      f\"\\n{smiley}\\n\")\n",
    "plt.imshow(smiley, cmap = plt.get_cmap(\"gray\"))\n",
    "plt.axis('off');"
   ]
  },
  {
   "cell_type": "markdown",
   "id": "975a36dd-174d-4670-9b9e-1b7b6534cc9c",
   "metadata": {},
   "source": [
    "Ainsi, ci-dessus nous pouvons observer comment nous pouvons passer simplement d'un tableau contenant des valeurs à la création d'une image.  \n",
    "\n",
    "- Dans un second exemple, nous allons voir comment refaire cette même image mais cette fois-ci en lui rajoutant des couleurs. Pour faire cela nous utiliserons un tableau contenant le code couleur RGB (pour *Red, Green, Blue*). Ce code correspond à un tuple contenant trois valeurs pour chacune des trois couleurs allant de 0 (cas où le pixel est éteint) à 255 (cas où le pixel est allumé)."
   ]
  },
  {
   "cell_type": "code",
   "execution_count": 21,
   "id": "f2bb5d66-40a3-4d9d-97fe-19b0636cb60c",
   "metadata": {},
   "outputs": [
    {
     "data": {
      "image/png": "[encoded data removed]",
      "text/plain": [
       "<Figure size 432x288 with 1 Axes>"
      ]
     },
     "metadata": {
      "needs_background": "light"
     },
     "output_type": "display_data"
    }
   ],
   "source": [
    "smiley_color = np.array([[(255,255,0),(255,255,0),(255,255,0),(255,255,0),(255,255,0),(255,255,0)],\n",
    "                       [(255,255,0),(0,0,255),(255,255,0),(255,255,0),(0,0,255),(255,255,0)],\n",
    "                       [(255,255,0),(0,0,255),(255,255,0),(255,255,0),(0,0,255),(255,255,0)],\n",
    "                       [(255,255,0),(255,255,0),(255,255,0),(255,255,0),(255,255,0),(255,255,0)],\n",
    "                       [(255,255,0),(255,0,0),(255,0,0),(255,0,0),(255,0,0),(255,255,0)],\n",
    "                       [(255,255,0),(255,255,0),(255,255,0),(255,255,0),(255,255,0),(255,255,0)]],\n",
    "                       )\n",
    "\n",
    "plt.imshow(smiley_color)\n",
    "plt.axis(\"off\");"
   ]
  },
  {
   "cell_type": "markdown",
   "id": "6d161565-8c71-440f-81eb-8d9edd02db44",
   "metadata": {},
   "source": [
    "## Quelles différences y a-t-il entre une image au format .tif et des formats d’images plus communs comme le .jpeg ? Quel intérêt d’utiliser le premier format en microscopie ?\n",
    "\n",
    "Dans le cadre de notre analyse d’image nous disposons d'une image de microscopie à fluorescence au format .tif.  \n",
    "\n",
    "Une image peut être stockée sous différents formats comme par exemple les formats : .jpeg, .png, .gif et .tif, etc. La principale différence entre le format .tif et les autres formats qui sont des formats plus communément utilisés est la suivante.  \n",
    "Le format TIFF ne présente pas de compression, dans le cas où il y aurait une compression cela n’impacte pas la qualité de l’image observée. Ce manque de compression implique que la taille du fichier sera élevée. Le format .tif est donc utilisé pour avoir des images de haute résolution/qualité qui permet d’avoir des images avec des détails important ce qui est idéal pour observer des images de microscopie.\n",
    "\n",
    "\n",
    "\n",
    "- Comment est composée l’image fournie dans comme donnée (différents canaux) ?  (tristan)\n",
    "- Comment ouvrir et afficher l’image avec scikit-image ? (tristan)"
   ]
  },
  {
   "cell_type": "markdown",
   "id": "1cdc2b33-86f4-40b8-a815-2c25441c0d53",
   "metadata": {},
   "source": [
    "## Ressources\n",
    "\n",
    "- Vidéo Scipy 16/06/2019 : [Image Analysis in Python with SciPy and Scikit Image](https://www.youtube.com/watch?v=d1CIV9irQAY), consulté le 15/10/2021.  \n",
    "\n",
    "Ressource contruite sous la forme d'un cours interactif. Cela permet de comprendre le module car on peut suivre et reproduire les démonstrations sur notre machine. Malheureusement, certaines fonctions et commmandes ne fonctionnent plus de la même manière aujourd'hui, car ils utilisent la version 0.15, alors que la version la plus récente au moment de la création de notre environement de travail (09/10/2021) est la version 0.18.3.  \n",
    "\n",
    "- TD d’analyse d’image de microscopie, 2017, Griffin Chure: [TD Caltech](https://bi1.caltech.edu/code/t04_quantitative_image_processing.html), consulté le 17/10/2021.  \n",
    "\n",
    "Ressource trés pertinente, puisque qu'il s'agit d'une analyse d'image en microscopie à fluorecsence d'_E.coli_ semblable à notre projet.  \n",
    "\n",
    "\n",
    "- [GitHub de scikit-image](https://github.com/scikit-image), consulté le 16/10/2021.  \n",
    "\n",
    "Repository GitHub du module scikit-image. Il propose plusieurs tutoriels et démonstrations du module.  \n",
    "\n",
    "- site web de la bibliothèque [scikit-image](https://scikit-image.org), consulté le 10/10/2021.  \n",
    "\n",
    "Site du module, incluant toutes la documantations du module et de ses fonctions. Ainsi qu'un petit nombre de tutoriels qui pourraient nous être utiles.  \n",
    "\n",
    "- site web : (https://scipy-lectures.org/packages/scikit-image/index.html), consulté le 16/10/2021.  \n",
    "\n",
    "Tutoriels court, permettant la prise en main du module scikit-image. Ce qui nous a permis de comprendre comment est représenter une image en Python.  \n",
    "\n",
    "- [forum sur image.sc](https://forum.image.sc/tag/scikit-image), consulté le 17/10/2021.  \n",
    "\n",
    "Forum destiné uniquement au module scikit-image, qui sera probablement utile lors d'erreurs d'utilisation des fonctions du module.  \n",
    "\n",
    "- [publication (van der Walt *et al*., 2014)](http://dx.doi.org/10.7717/peerj.453), consulté le 15/10/2021.  \n",
    "\n",
    "Publication du module, avec présence d'exemples d'utilisation du module dans différents domaines d'applications."
   ]
  },
  {
   "cell_type": "code",
   "execution_count": null,
   "id": "3e5c2b80-b20c-4921-9e9e-3c66d67a290a",
   "metadata": {},
   "outputs": [],
   "source": []
  }
 ],
 "metadata": {
  "kernelspec": {
   "display_name": "Python 3 (ipykernel)",
   "language": "python",
   "name": "python3"
  },
  "language_info": {
   "codemirror_mode": {
    "name": "ipython",
    "version": 3
   },
   "file_extension": ".py",
   "mimetype": "text/x-python",
   "name": "python",
   "nbconvert_exporter": "python",
   "pygments_lexer": "ipython3",
   "version": "3.7.9"
  }
 },
 "nbformat": 4,
 "nbformat_minor": 5
}
