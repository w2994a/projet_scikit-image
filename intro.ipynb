{
 "cells": [
  {
   "cell_type": "markdown",
   "id": "c8c5fd49-92a2-482f-8c2d-327f1819606f",
   "metadata": {
    "tags": []
   },
   "source": [
    "# Introduction à la manipulation et à l'analyse d'images en Python\n",
    "\n",
    "La manipulation et l'analise d'images en python est réaliser à l'aide du module [scikit-image](https://scikit-image.org/), qui un des nombreux projets de base de [scipy stack](https://www.scipy.org/docs.html)]. Il éxiste d'autres module permettant de réaliser de l'analise d'image tel que [Pillow](https://python-pillow.org/), [SimpleITK](https://simpleitk.org/), et tant d'autres.\n",
    "\n",
    "Ce module est un dès plus utilisé pour la manipulation et l'analise d'image en python. La toute première version de scikit-image remonte à août 2009. La version actuelle, et celle utilisé dans cette démonstration de l'utilisation du module, est la version 0.18.3. Le dépot GitHub du projet scikit-image est consultable [ici](https://github.com/scikit-image).\n",
    "\n",
    "Il est principalement utilisé pour réaliser de la segmentation, du filtrage, de la transformation que nous allons aborder au cours de cette introduction. L'installation du module à partir des gestionnaires de packages [pip](https://pypi.org/) et [conda](https://anaconda.org/) à l'aide des commandes suivantes.  \n",
    "\n",
    "```bash\n",
    "# installation with conda :\n",
    "conda install -c conda-forge scikit-image\n",
    "\n",
    "# installation with pip :\n",
    "## Debian/Ubuntu :\n",
    "sudo apt-get install python-skimage\n",
    "## OSX :\n",
    "pip install scikit-image\n",
    "```"
   ]
  },
  {
   "cell_type": "markdown",
   "id": "702a302f-4318-40a4-ad44-3fa137bac93a",
   "metadata": {},
   "source": [
    "## contexte (william)\n",
    "\n",
    "https://www.ibiology.org/techniques/introduction-to-bioimage-analysis/\n",
    "\n",
    "\n",
    "## objectifs (willliam)\n",
    "\n",
    "L'objectif est d'explorer en surface le module scikit-image. Par exemple comment segmenter une image de microscopie multicellulaires pour analyser une cellule unique.\n",
    "- identifier noyaux, organites, \n",
    "- filtrage objet abbérant\n",
    "- mesure simple (taille, fluorescence, granulométrie)\n",
    "- déterminer la corespondance cellulaire des fluorochromes\n",
    "\n",
    "## ...\n",
    "\n",
    "\n",
    "# « Images » Manipulation et analyse d'images en Python\n",
    "\n",
    "Manipulation d’une image de microscopie avec scikit-image et analyses basiques.\n",
    "  \n",
    "## Questions et points à aborder ou à traiter :  \n",
    "\n",
    "- Comment est codée informatiquement une image ?  (jeyani)\n",
    "- Présenter les données : Quelles différences y a-t-il entre une image au format .tif et des formats d’images plus communs comme le .jpeg ? Quel intérêt d’utiliser le premier format en microscopie ?  (jeyani)\n",
    "- Comment est composée l’image fournie dans comme donnée (différents canaux) ?  (tristan)\n",
    "- Comment ouvrir et afficher l’image avec scikit-image ? (tristan)\n",
    "\n",
    "Choisir un canal (par exemple le bleu) et extraire les principaux objets :  \n",
    "    - Segmenter l’image (justifier le choix du seuil)\n",
    "    - Identifier les objets et filtrer les objets aberrants  \n",
    "    - Effectuer quelques mesures simples (taille, fluorescence  \n",
    "\n"
   ]
  },
  {
   "cell_type": "code",
   "execution_count": null,
   "id": "a399ab36-3e6b-40c3-8aa0-3df77ca1e530",
   "metadata": {},
   "outputs": [],
   "source": []
  }
 ],
 "metadata": {
  "kernelspec": {
   "display_name": "Python 3 (ipykernel)",
   "language": "python",
   "name": "python3"
  },
  "language_info": {
   "codemirror_mode": {
    "name": "ipython",
    "version": 3
   },
   "file_extension": ".py",
   "mimetype": "text/x-python",
   "name": "python",
   "nbconvert_exporter": "python",
   "pygments_lexer": "ipython3",
   "version": "3.7.9"
  }
 },
 "nbformat": 4,
 "nbformat_minor": 5
}
