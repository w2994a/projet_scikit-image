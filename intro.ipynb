{
 "cells": [
  {
   "cell_type": "markdown",
   "id": "c8c5fd49-92a2-482f-8c2d-327f1819606f",
   "metadata": {
    "tags": []
   },
   "source": [
    "# Introduction à la manipulation et à l'analyse d'images en Python\n",
    "\n",
    "La manipulation et l'analise d'images en python est réaliser à l'aide du module [scikit-image](https://scikit-image.org/), qui un des nombreux projets de base de [scipy stack](https://www.scipy.org/docs.html)].  \n",
    "\n",
    "Ce module est un dès plus utilisé pour la manipulation et l'analise d'image en python. La toute première version de scikit-image remonte à août 2009. La version actuelle, et celle utilisé dans cette démonstration de l'utilisation du module, est la version 0.18.3. Le dépot GitHub du projet scikit-image est consultable [ici](https://github.com/scikit-image).\n",
    "\n",
    "Il est principalement utilisé pour réaliser de la segmentation, du filtrage, de la transformation que nous allons aborder au cours de cette introduction.\n",
    "\n",
    "\n",
    "## contexte (william)\n",
    "\n",
    "\n",
    "\n",
    "\n",
    "## objectifs (willliam)\n",
    "\n",
    "L'objectif est d'explorer en surface le module scikit-image. Par exemple comment segmenter une image de microscopie multicellulaires pour analyser une cellule unique.\n",
    "- identifier noyaux, organites, \n",
    "- filtrage objet abbérant\n",
    "- mesure simple (taille, fluorescence, granulométrie)\n",
    "- déterminer la corespondance cellulaire des fluorochromes\n",
    "\n",
    "## ...\n",
    "\n",
    "\n",
    "# « Images » Manipulation et analyse d'images en Python\n",
    "\n",
    "Manipulation d’une image de microscopie avec scikit-image et analyses basiques.\n",
    "  \n",
    "## Questions et points à aborder ou à traiter :  \n",
    "\n",
    "- Comment est codée informatiquement une image ?  (jeyani)\n",
    "- Présenter les données : Quelles différences y a-t-il entre une image au format .tif et des formats d’images plus communs comme le .jpeg ? Quel intérêt d’utiliser le premier format en microscopie ?  (jeyani)\n",
    "- Comment est composée l’image fournie dans comme donnée (différents canaux) ?  (tristan)\n",
    "- Comment ouvrir et afficher l’image avec scikit-image ? (tristan)\n",
    "\n",
    "Choisir un canal (par exemple le bleu) et extraire les principaux objets :  \n",
    "    - Segmenter l’image (justifier le choix du seuil)\n",
    "    - Identifier les objets et filtrer les objets aberrants  \n",
    "    - Effectuer quelques mesures simples (taille, fluorescence  \n",
    "\n"
   ]
  },
  {
   "cell_type": "markdown",
   "id": "21f7c9ac-ebcb-4973-a0f5-7fae3f362042",
   "metadata": {},
   "source": [
    "### Comment est composée l'image fournie comme donnée ?\n",
    "\n",
    "L'image FluorescentCells.tif est composée de trois canaux, un pour le rouge, un pour le vert, et un pour le bleu, les trois couleurs primaires. Cette image est codée dans un tableau numpy tridimensionnel : les première et deuxième dimensions correspondent aux coordonnées des pixels, la troisième dimension est composée des trois canaux rouge, vert, et bleu."
   ]
  },
  {
   "cell_type": "code",
   "execution_count": 1,
   "id": "304321ab-a565-452b-b101-2bf5215edcb7",
   "metadata": {},
   "outputs": [],
   "source": [
    "import skimage\n",
    "import numpy\n",
    "from matplotlib import pyplot"
   ]
  },
  {
   "cell_type": "code",
   "execution_count": null,
   "id": "3e0534f5-27fa-44da-ba8b-82300eb3dc33",
   "metadata": {},
   "outputs": [],
   "source": [
    "import os\n",
    "\n",
    "filename = filename = os.path.join(\"./FluorescentCells\", \"FluorescentCells.tif\")\n"
   ]
  }
 ],
 "metadata": {
  "kernelspec": {
   "display_name": "Python 3 (ipykernel)",
   "language": "python",
   "name": "python3"
  },
  "language_info": {
   "codemirror_mode": {
    "name": "ipython",
    "version": 3
   },
   "file_extension": ".py",
   "mimetype": "text/x-python",
   "name": "python",
   "nbconvert_exporter": "python",
   "pygments_lexer": "ipython3",
   "version": "3.9.5"
  }
 },
 "nbformat": 4,
 "nbformat_minor": 5
}
