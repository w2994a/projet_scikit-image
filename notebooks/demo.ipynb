{
 "cells": [
  {
   "cell_type": "markdown",
   "id": "f8ecaea5-54bb-4d4d-8ac9-abaf2e221077",
   "metadata": {
    "tags": []
   },
   "source": [
    "# Analyse d'une image de microscopie à l'aide du module *scikit-image*\n",
    "Ce notebook a pour objectif d'illustrer une utilisation simplifiée du module *scikit-image* pour l'analyse d'une image de cellules issue d'un microscope photonique à épifluorescence. On cherche à compter le nombre de noyaux présents sur l’image, ainsi que leur taille et leur intensité de fluorescence.\n",
    "\n",
    "## Chargement des modules"
   ]
  },
  {
   "cell_type": "code",
   "execution_count": null,
   "id": "6f12873f-0bbf-4618-9544-e17f0b9b238b",
   "metadata": {},
   "outputs": [],
   "source": [
    "# Modules de base\n",
    "\n",
    "import os\n",
    "import numpy as np\n",
    "import pandas as pd\n",
    "import matplotlib.pyplot as plt\n",
    "\n",
    "\n",
    "# Sous-modules de scikit-image pour la manipulation d'image\n",
    "\n",
    "# lecture et écriture d'une image\n",
    "import skimage.io\n",
    "# ...\n",
    "import skimage.exposure\n",
    "# mesures sur l'image\n",
    "import skimage.measure\n",
    "# filtrage de l'image\n",
    "import skimage.filters\n",
    "\n",
    "# Fonction pour le téléchargement de l'image à analiser\n",
    "from urllib.request import urlretrieve\n",
    "\n",
    "# Module pour réaliser des graphiques interactifs\n",
    "import plotly\n",
    "import plotly.express as px\n",
    "import plotly.graph_objects as go\n",
    "\n",
    "# visualisation des graphique et des images dans le notebook\n",
    "%matplotlib inline"
   ]
  },
  {
   "cell_type": "markdown",
   "id": "21b58f53-17c8-4cb1-980c-f3a1d34c849b",
   "metadata": {
    "tags": []
   },
   "source": [
    "## Téléchargement et décompréssion de l'image à analyser"
   ]
  },
  {
   "cell_type": "code",
   "execution_count": null,
   "id": "8aaf37c0-ae79-428f-941f-60b96aeee905",
   "metadata": {},
   "outputs": [],
   "source": [
    "# Téléchargement de l'image si elle n'est pas présente dans le répertoire\n",
    "# courrant.\n",
    "if not os.path.isfile('../img/FluorescentCells.zip'):\n",
    "    print('Downloading the TIFF file for fluorescent cells image...')\n",
    "    try:\n",
    "        urlretrieve('https://imagej.nih.gov/ij/images/FluorescentCells.zip',\n",
    "            '../img/FluorescentCells.zip')\n",
    "        print(\"ok\")\n",
    "    except:\n",
    "        print(\"Unable to download the file!\")\n",
    "    print('Done!')\n",
    "\n",
    "# Décompression du fichier FluorescentCells.zip si l'image n'est pas\n",
    "# décompréssée.\n",
    "if not os.path.isfile(\"../img/FluorescentCells.tif\"):\n",
    "    !unzip FluorescentCells.zip"
   ]
  },
  {
   "cell_type": "markdown",
   "id": "0efd689a-72b7-49e1-9c72-e4fd9baec1f2",
   "metadata": {},
   "source": [
    "## Chargement et visualisation de l'image à analyser\n",
    "\n",
    "L'image à analyser provient du [NIH](https://imagej.nih.gov/ij/images/FluorescentCells.zip).\n",
    "L'image est chargée et stockée dans un tableau *numpy* à l'aide de la fonction `imread()` du sous-module `io` de *scikit-image*."
   ]
  },
  {
   "cell_type": "code",
   "execution_count": null,
   "id": "15362e0a-84c9-45f0-8c53-624d3fb3ef0c",
   "metadata": {},
   "outputs": [],
   "source": [
    "img = skimage.io.imread(\"../img/FluorescentCells.tif\")"
   ]
  },
  {
   "cell_type": "code",
   "execution_count": null,
   "id": "956d72e8-ec46-4832-90fc-3fb8966d0012",
   "metadata": {},
   "outputs": [],
   "source": [
    "plt.figure(figsize=(8, 8))\n",
    "plt.imshow(img)\n",
    "plt.axis(\"off\");"
   ]
  },
  {
   "cell_type": "markdown",
   "id": "06df7d3b-1eae-4ba1-9b1f-2ea3c53cf9fd",
   "metadata": {},
   "source": [
    "D'après la [description](https://imagej.nih.gov/ij/images/FluorescentCells.txt) de cette image, il s'agit de cellules endothéliales d'artère pulmonaire bovine obtenue par microscopie à épifluorescence. Les filaments d'actine sont marqués en rouge, les microtubules en vert, et les noyaux en bleu."
   ]
  },
  {
   "cell_type": "code",
   "execution_count": null,
   "id": "4ba5fcef-8cf1-40aa-a916-bf1af6d3e54d",
   "metadata": {},
   "outputs": [],
   "source": [
    "print(f\"Dimensions de l'image : {img.shape}\")\n",
    "print(f\"Représentation du pixel (0, 0): {img[0, 0, :]}\")"
   ]
  },
  {
   "cell_type": "markdown",
   "id": "030181e0-c24a-40a3-b2db-254874b36a71",
   "metadata": {},
   "source": [
    "L'image est tridimensionnelle. Les deux premières dimensions correspondent aux coordonnées (ligne, colonne) des pixels de l'image. La dernière dimensions correspondant aux différents canaux. C'est une image RGB ; le pixel (0, 0) a pour valeur 16 dans le canal rouge, 50 dans le canal vert, et 0 dans le canal bleu."
   ]
  },
  {
   "cell_type": "markdown",
   "id": "9cbb67f4-e763-43f0-b3e8-f73ff99fc01e",
   "metadata": {},
   "source": [
    "## Sélection du canal d'intérêt\n",
    "Le canal d'intérêt est le canal bleu, puisque que les noyaux sont marqués au DAPI. Il faut dont utiliser l'indice `2` dans la troisième dimension de le tableau *numpy* pour le sélectionner (`1` est le canal rouge et `3` le canal vert)."
   ]
  },
  {
   "cell_type": "code",
   "execution_count": null,
   "id": "9064c83c-0279-4f2b-a0f6-c6c09a252a7d",
   "metadata": {},
   "outputs": [],
   "source": [
    "canal_bleu = img[:, :, 2]"
   ]
  },
  {
   "cell_type": "markdown",
   "id": "d68810de-5426-44bc-af6b-b5fe7391b8dc",
   "metadata": {},
   "source": [
    "### Affichage du canal d'intérêt"
   ]
  },
  {
   "cell_type": "code",
   "execution_count": null,
   "id": "55ea555e-0505-4db9-84b7-7dd417cda987",
   "metadata": {},
   "outputs": [],
   "source": [
    "plt.figure(figsize=(8, 8))\n",
    "plt.imshow(canal_bleu, cmap=\"gray\")\n",
    "plt.axis(\"off\");"
   ]
  },
  {
   "cell_type": "markdown",
   "id": "8d5409e1-2055-4705-b052-411e83ed8fd9",
   "metadata": {},
   "source": [
    "La sélection effectuée permet d'identifier les noyaux.\n",
    "\n",
    "## Segmentation des noyaux\n",
    "\n",
    "Pour sélectionner les noyaux et éliminer le bruit présent sur cette image, nous allons ici utiliser un seuil d'intensité. \n",
    "\n",
    "### Estimation du seuil\n",
    "\n",
    "Pour identifier ce seuil, nous réalisons un histogramme en utilsant la fonction `histogram` du sous-module `exposure` de *scikit-image*. Cette fonction renvoie les valeurs nécessaires à la construction de l'histogramme."
   ]
  },
  {
   "cell_type": "code",
   "execution_count": null,
   "id": "eb2f828d-92d4-4bf9-86ee-ce9cd5d760b4",
   "metadata": {},
   "outputs": [],
   "source": [
    "count, pixel_value = skimage.exposure.histogram(canal_bleu)\n",
    "plt.figure(figsize=(8, 6))\n",
    "plt.rc(\"font\", size=15)\n",
    "plt.plot(pixel_value, count)\n",
    "plt.title(\"Blue channel pixel values\")\n",
    "plt.xlabel(f\"Pixel value ({canal_bleu.dtype})\")\n",
    "plt.ylabel(\"Count pixel\");"
   ]
  },
  {
   "cell_type": "markdown",
   "id": "a8ea3a3c-ab1b-4061-bb2b-9e5d19081ca0",
   "metadata": {},
   "source": [
    "La plupart des valeurs de pixel étant nulles (aucune intensité dans le canal bleu), nous fixons une valeur limite sur l'axe des abscisses (ici, 100) pour distinguer les comptes de pixel sur l'ensemble de l'histogramme."
   ]
  },
  {
   "cell_type": "code",
   "execution_count": null,
   "id": "8dbaab5d-3456-41a1-9bdf-b4aa7fdb9f38",
   "metadata": {},
   "outputs": [],
   "source": [
    "plt.figure(figsize=(8, 6))\n",
    "plt.rc(\"font\", size=15)\n",
    "plt.plot(pixel_value, count)\n",
    "plt.ylim(0, 100)\n",
    "plt.title(\"Blue channel pixel values\")\n",
    "plt.xlabel(f\"Pixel value ({canal_bleu.dtype})\")\n",
    "plt.ylabel(\"Count pixel\");"
   ]
  },
  {
   "cell_type": "markdown",
   "id": "3c5b9b29-0b22-4596-82e8-ad97418f7bd8",
   "metadata": {},
   "source": [
    "On remarque un minimum local proche de 80 pour la valeur des pixels.\n",
    "\n",
    "### Segmentation\n",
    "\n",
    "Nous choisissons donc un seuil de 80 pour la sélection des noyaux."
   ]
  },
  {
   "cell_type": "code",
   "execution_count": null,
   "id": "07597e04-6a3a-4e58-8f7a-8a9764bbf894",
   "metadata": {},
   "outputs": [],
   "source": [
    "seuil = 80\n",
    "nuclei_mask = canal_bleu > seuil\n",
    "\n",
    "print(f\"{nuclei_mask.dtype}: {np.unique(nuclei_mask)}\")"
   ]
  },
  {
   "cell_type": "markdown",
   "id": "b3e64b8e-bcb1-4fd4-8d9c-2d0ec8f58f61",
   "metadata": {},
   "source": [
    "le tableau *numpy* `nuclei_mask` ainsi créé est en fait un masque booléen. Nous pouvons l'afficher afin de voir les objets segmentés."
   ]
  },
  {
   "cell_type": "code",
   "execution_count": null,
   "id": "f078032e-0908-4b1f-a96f-0174172920a8",
   "metadata": {},
   "outputs": [],
   "source": [
    "# create subplots to display all images in a single figure\n",
    "fig, axes = plt.subplots(nrows=1, ncols=2, figsize=(12, 21))\n",
    "\n",
    "# make the array of axes 1-dimensional\n",
    "axes = axes.ravel()\n",
    "\n",
    "# turn off axis lines and labels\n",
    "for ax in axes:\n",
    "    ax.axis(\"off\")\n",
    "\n",
    "axes[0].imshow(canal_bleu, cmap=\"gray\")\n",
    "axes[0].set_title(\"blue channel\")\n",
    "\n",
    "axes[1].imshow(nuclei_mask, cmap=\"gray\")\n",
    "axes[1].set_title(\"segmented nuclei\");"
   ]
  },
  {
   "cell_type": "markdown",
   "id": "03ddc839-bd4e-4b7a-a314-f89147862fa4",
   "metadata": {},
   "source": [
    "Nous constatons que la segmentation a plutôt bien fonctionné : tous les noyaux ont été segmentés. Toutefois, un petit groupe de pixels n'appartenant à aucun noyau se retrouve également segmenté. Pour éviter cet artefact, nous allons réaliser un filtrage de l'image.\n",
    "\n",
    "### Filtrage de l'image"
   ]
  },
  {
   "cell_type": "markdown",
   "id": "0c857196-d0ad-42c3-a0b9-b4b317057393",
   "metadata": {},
   "source": [
    "**TO DELETE** Afin de pouvoir pousuivre l'analyse de cette image, nous devons retirer la zone de texte qui pourrait biaiser le résultat."
   ]
  },
  {
   "cell_type": "code",
   "execution_count": null,
   "id": "5d8cd1af-9a70-4241-be6a-bd64149205b5",
   "metadata": {},
   "outputs": [],
   "source": [
    "# create subplots to display all images in a single figure\n",
    "fig, axes = plt.subplots(nrows=1, ncols=2, figsize=(12, 21))\n",
    "\n",
    "# make the array of axes 1-dimensional\n",
    "axes = axes.ravel()\n",
    "\n",
    "# turn off axis lines and labels\n",
    "for ax in axes:\n",
    "    ax.axis(\"off\")\n",
    "\n",
    "axes[0].imshow(nuclei_mask, cmap=\"gray\")\n",
    "axes[0].set_title(\"segmented nuclei with text\")\n",
    "\n",
    "axes[1].imshow(nuclei_mask[:476, :], cmap = \"gray\")\n",
    "axes[1].set_title(\"segmented nuclei without text\");"
   ]
  },
  {
   "cell_type": "markdown",
   "id": "1dce295a-3b01-4fc1-b3c0-1f15d943897b",
   "metadata": {},
   "source": [
    "**TO DELETE** Par la sélection des lignes 0 à 475, on remarque que cela a pu retirer la zone de texte sans perte d'informations pour la suite de notre analyse."
   ]
  },
  {
   "cell_type": "code",
   "execution_count": null,
   "id": "1dcedf76-a5d3-497e-9730-03975ef4c153",
   "metadata": {},
   "outputs": [],
   "source": [
    "nuclei_mask = nuclei_mask[:476, :]\n",
    "canal_bleu = canal_bleu[:476, :]"
   ]
  },
  {
   "cell_type": "markdown",
   "id": "ef10d225-3e50-4395-9098-27c807059a07",
   "metadata": {},
   "source": [
    "### Etiquetage et comptage des noyaux\n",
    "\n",
    "La fonction `label` du sous-module `measure` de *scikit-image* permet d'étiqueter chaque région contiguë de pixels de même valeur d'un tableau d'entiers. Nous l'utilisons ici sur pour donner un *label* à chaque région. En plus, elle retourne aussi le nombre de régions présentes dans le tableau *numpy* avec l'argument `return_num=True`."
   ]
  },
  {
   "cell_type": "code",
   "execution_count": null,
   "id": "eaf19c62-bc32-429c-af84-32f5d87bbf00",
   "metadata": {},
   "outputs": [],
   "source": [
    "# set return_num to True to return the number of labeled regions as well\n",
    "# background=0 is used to consider 0-valued pixels as background altough also a connected region\n",
    "nuclei_lab, nuclei_num = skimage.measure.label(nuclei_mask, background=0, return_num=True)\n",
    "\n",
    "print(f\"Number of segmented objects: {nuclei_num}\")"
   ]
  },
  {
   "cell_type": "markdown",
   "id": "815e1805-9127-45a5-a21f-5f9778d604a6",
   "metadata": {},
   "source": [
    "Au total, 7 régions ont été segmentées."
   ]
  },
  {
   "cell_type": "code",
   "execution_count": null,
   "id": "65698eeb-674d-410d-9d4f-23becbc50e1f",
   "metadata": {},
   "outputs": [],
   "source": [
    "print(nuclei_lab.shape)\n",
    "print(np.unique(nuclei_lab))\n",
    "plt.figure(figsize=(8, 8))\n",
    "plt.imshow(nuclei_lab, cmap=\"nipy_spectral\", interpolation='none')\n",
    "plt.axis(\"off\");"
   ]
  },
  {
   "cell_type": "markdown",
   "id": "17fd157c-8d43-41eb-b3e4-bef987136341",
   "metadata": {},
   "source": [
    "le tableau numpy étiqueté (`nuclei_lab`) est de mêmes dimensions que le tableau d'origine (`true_nuclei`), mais il comporte 8 valeurs distinctes : une valeur pour les pixels du background, et 7 autres valeurs (de 1 à 7) pour les 7 régions segmentées, comme on le constate en affichant l'image étiquetée en couleurs.\n",
    "\n",
    "Pour retirer l'artefact, nous allons mesurer l'aire des objets et éliminer celui ayant une aire trop petite."
   ]
  },
  {
   "cell_type": "markdown",
   "id": "02b86791-6d6b-4861-89d4-7d3e86d3f9dd",
   "metadata": {},
   "source": [
    "### Calcul de l'aire des objets\n",
    "\n",
    "Nous allons mesurer l'aire des noyaux. Pour cela, nous commençons par créer un masque booléen pour chacun des 7 objets segmentés auparavant."
   ]
  },
  {
   "cell_type": "code",
   "execution_count": null,
   "id": "6bf3eb59-5231-46bc-8320-0a05dc62ae8b",
   "metadata": {},
   "outputs": [],
   "source": [
    "# list to store numpy arrays of each nucleus boolean mask\n",
    "nuclei_obj = []\n",
    "\n",
    "# create each nucleus boolean mask using its label and append it to nuclei_obj\n",
    "for i in range(nuclei_num):\n",
    "    nuc = (nuclei_lab == i + 1)\n",
    "    nuclei_obj.append(nuc)\n",
    "\n",
    "    \n",
    "fig, axes = plt.subplots(nrows=3, ncols=3, figsize=(15, 15))\n",
    "\n",
    "# make the array of axes 1-dimensional\n",
    "axes = axes.ravel()\n",
    "\n",
    "# turn off axis lines and labels\n",
    "for ax in axes:\n",
    "    ax.axis(\"off\")\n",
    "\n",
    "for i, nuc in enumerate(nuclei_obj):\n",
    "    axes[i].imshow(nuc, cmap=\"gray\")\n",
    "    axes[i].set_title(\"nucleus #\" + str(i + 1))"
   ]
  },
  {
   "cell_type": "markdown",
   "id": "319da33d-2c32-4648-917a-9308a48ba299",
   "metadata": {},
   "source": [
    "Les arrays *numpy* ainsi créés sont effectivement les masques booléens de chacun des 7 objets."
   ]
  },
  {
   "cell_type": "markdown",
   "id": "7e883458-69be-44fd-bdff-f778cdcfcc50",
   "metadata": {},
   "source": [
    "Pour mesurer l'aire de chaque noyau, nous comptons le nombre de pixel présent dans chaque région. Les pixels étiquetés ayant pour  valeur `True` et les autres pixels `False`, il suffit de faire la somme des éléments de chaque masque booléen pour obtenir l'aire (en pixel) de chaque noyau."
   ]
  },
  {
   "cell_type": "code",
   "execution_count": null,
   "id": "383b41d0-e02c-478b-a85a-c2bb24427e6f",
   "metadata": {},
   "outputs": [],
   "source": [
    "# measure nuclei areas\n",
    "\n",
    "# create empty list to  store areas\n",
    "nuc_areas = []\n",
    "\n",
    "# measure each nucleus area and append it to nuc_areas\n",
    "for i in range(nuclei_num):\n",
    "    area = np.sum(nuclei_obj[i])\n",
    "    nuc_areas.append(area)\n",
    "    print(f\"nuc_{i + 1} area: {nuc_areas[i]} pixels\")"
   ]
  },
  {
   "cell_type": "markdown",
   "id": "45314109-f091-4563-81b1-addab8fb2535",
   "metadata": {},
   "source": [
    "On remarque que l'objet `nuc_6` a une aire de 18 pixels, une valeur trop faible pour concidérer cet objet comme un noyau. Nous allons donc sélectionner les noyaux."
   ]
  },
  {
   "cell_type": "markdown",
   "id": "1fc24c67-9ec6-43d8-9a0c-b0d7ee6d4a70",
   "metadata": {},
   "source": [
    "### Sélection des noyaux\n",
    "\n",
    "Afin de réaliser cette sélection, nous allons créer un array *numpy* qui contiendra les noyaux dont l'aire est supérieure ou égale au seuil fixé de 50 pixels."
   ]
  },
  {
   "cell_type": "code",
   "execution_count": null,
   "id": "3922a090-06b7-4efb-97b0-cc4a55d4909c",
   "metadata": {},
   "outputs": [],
   "source": [
    "threshold_area = 50\n",
    "# Make an empty image the same size as our orignal binary image\n",
    "approved_nuclei = np.zeros_like(nuclei_mask)\n",
    "\n",
    "# Loop through each object and test its area.\n",
    "for i in range(nuclei_num):\n",
    "    # Get the cell of interest.\n",
    "    nuclei = (nuclei_lab == i + 1)\n",
    "    \n",
    "    # Compute its area. \n",
    "    cell_area = np.sum(nuclei)\n",
    "    \n",
    "    # Test if it is within our bounds. \n",
    "    if (cell_area > threshold_area):\n",
    "        \n",
    "        # Add our extraced cell to our blank image.\n",
    "        approved_nuclei += nuclei\n",
    "\n",
    "# Relabel and show the approved_cells mask\n",
    "approved_lab, num_obj = skimage.measure.label(approved_nuclei, return_num=True)\n",
    "\n",
    "print(f\"Number of nuclei: {num_obj}\")\n",
    "plt.figure(figsize=(8, 8))\n",
    "plt.imshow(approved_lab, cmap=\"nipy_spectral\", interpolation='none')\n",
    "plt.axis(\"off\");"
   ]
  },
  {
   "cell_type": "markdown",
   "id": "bfe082aa-72a1-4481-b9a1-70bd7cf2fd85",
   "metadata": {},
   "source": [
    "On remarque que l'artefact n'est plus considéré comme étant un noyau. On compte bien 6 noyaux."
   ]
  },
  {
   "cell_type": "markdown",
   "id": "0f6d84f3-1679-4acb-aae8-6e9d0ef2a157",
   "metadata": {},
   "source": [
    "## Alternative : segmentation après filtrage de l'image\n",
    "\n",
    "Il existe une seconde manière de réaliser le filtrage de l'image, en utilisant un filtre gaussien.\n",
    "\n",
    "Le filtre gaussien permet de réduire le bruit en lissant l'image par une méthode de \"convolution\". Cette méthode revient à calculer une nouvelle valeur pour chaque pixel en faisant la moyenne de ce pixel et des pixels l'entourant, le poids relatif de chaque pixel étant déterminé par les valeurs contenues dans un kernel. On dit qu'on effectue une convolution de l'image avec un kernel."
   ]
  },
  {
   "cell_type": "markdown",
   "id": "8bd95a3f-e59d-4299-8e33-6cd0dc048ce6",
   "metadata": {},
   "source": [
    "L'image filtrée `fluocells_b_filtered` est obtenue en appliquant sur le canal bleu (`fluocells_b`) la fonction `gaussian()` du sous-module `filters` de *scikit-image*."
   ]
  },
  {
   "cell_type": "code",
   "execution_count": null,
   "id": "46216c10-783a-47e0-a93b-82a5bbf3b2a5",
   "metadata": {},
   "outputs": [],
   "source": [
    "fluocells_b_filtered = skimage.filters.gaussian(canal_bleu,\n",
    "                                                sigma=2,\n",
    "                                                preserve_range=True)"
   ]
  },
  {
   "cell_type": "code",
   "execution_count": null,
   "id": "fbd59a85-ee84-4c48-941b-bb302765bf59",
   "metadata": {},
   "outputs": [],
   "source": [
    "# create subplots to display all images in a single figure\n",
    "fig, axes = plt.subplots(nrows=1, ncols=2, figsize=(12, 21))\n",
    "\n",
    "# make the array of axes 1-dimensional\n",
    "axes = axes.ravel()\n",
    "\n",
    "# turn off axis lines and labels\n",
    "for ax in axes:\n",
    "    ax.axis(\"off\")\n",
    "\n",
    "axes[0].imshow(canal_bleu, cmap=\"gray\")\n",
    "axes[0].set_title(\"blue channel\")\n",
    "\n",
    "axes[1].imshow(fluocells_b_filtered, cmap=\"gray\")\n",
    "axes[1].set_title(\"blue channel (gaussian filter, σ=2)\");"
   ]
  },
  {
   "cell_type": "markdown",
   "id": "2e74c25d-b2b2-486a-b6e5-dfff9c507574",
   "metadata": {},
   "source": [
    "L'artefact étant directement entouré de pixels ayant des valeurs faibles du fait de sa petite aire, on s'attend à ce que le filtrage réduise davantage son intensité que celle des objets identifiés comme des noyaux, qui on une aire plus importante."
   ]
  },
  {
   "cell_type": "markdown",
   "id": "4dc09083-1f5a-446b-bdfa-067ea721219e",
   "metadata": {},
   "source": [
    "### Segmentation (après filtrage par le filtre gaussien)\n",
    "\n",
    "La segmentation est cette fois réalisée sur l'image filtrée par le filtre gaussien."
   ]
  },
  {
   "cell_type": "code",
   "execution_count": null,
   "id": "b53d24e6-9f31-4e5e-809a-470300c400bc",
   "metadata": {},
   "outputs": [],
   "source": [
    "threshold = 80\n",
    "true_nuclei = (fluocells_b_filtered > threshold)\n",
    "true_nuclei = true_nuclei.astype(int)\n",
    "\n",
    "# create subplots to display all images in a single figure\n",
    "fig, axes = plt.subplots(nrows=1, ncols=2, figsize=(12, 21))\n",
    "\n",
    "# make the array of axes 1-dimensional\n",
    "axes = axes.ravel()\n",
    "\n",
    "# turn off axis lines and labels\n",
    "for ax in axes:\n",
    "    ax.axis(\"off\")\n",
    "\n",
    "axes[0].imshow(nuclei_mask, cmap=\"gray\")\n",
    "axes[0].set_title(\"segmented nuclei (before filtering)\")\n",
    "\n",
    "axes[1].imshow(true_nuclei, cmap=\"gray\")\n",
    "axes[1].set_title(\"segmented nuclei (after filtering)\");"
   ]
  },
  {
   "cell_type": "markdown",
   "id": "2091b1d8-1b54-4057-b03f-34155baff7a6",
   "metadata": {},
   "source": [
    "On remarque que l'utilisation du filtre gaussien permet de supprimer l'artefact durant la segmentation. Néanmoins, nous n'utiliseront pas cette méthode de filtrage de l'image pusiqu'elle induit une modification de cette dernière. En effet, comme expliqué plus haut, l'utilisation du filtre gaussien entraine une modification de l'image (un lissage). On a donc, une perte d'information de l'image, ce que l'on ne souhaite pas dans notre cas, puisque l'on veux réaliser diverses mesures sur les objets segmenté (sélection) tel qu'une mesure d'intensité de fluorescence.  \n",
    "\n",
    "On utilisera preférentiellement la première méthode de filtrage de l'image."
   ]
  },
  {
   "cell_type": "markdown",
   "id": "0e39715a-bb8e-486a-936f-5bcb3ca61787",
   "metadata": {},
   "source": [
    "## Mesures sur les noyaux\n",
    "\n",
    "Nous allons effectuer des mesures (aire, intensité, périmètre) sur les noyaux. Pour cela, nous commençons par créer un masque booléen pour chacun des 6 noyaux. Ces mesures seront stockés dans un data-frame Pandas (`nuclei_measure`)."
   ]
  },
  {
   "cell_type": "code",
   "execution_count": null,
   "id": "ec4c47e0-112b-4dfa-8a56-38865718957a",
   "metadata": {},
   "outputs": [],
   "source": [
    "# list to store numpy arrays of each nucleus boolean mask\n",
    "nuclei_obj = []\n",
    "\n",
    "# create each nucleus boolean mask using its label and append it to nuclei_obj\n",
    "for i in range(num_obj):\n",
    "    nuc = (approved_lab == i + 1)\n",
    "    nuclei_obj.append(nuc)\n",
    "\n",
    "    \n",
    "fig, axes = plt.subplots(nrows=2, ncols=3, figsize=(16, 10))\n",
    "\n",
    "axes = axes.ravel()\n",
    "\n",
    "# turn off axis lines and labels\n",
    "for ax in axes:\n",
    "    ax.axis(\"off\")\n",
    "\n",
    "for i, nuc in enumerate(nuclei_obj):\n",
    "    axes[i].imshow(nuc, cmap=\"gray\")\n",
    "    axes[i].set_title(\"nucleus #\" + str(i + 1))"
   ]
  },
  {
   "cell_type": "markdown",
   "id": "1f4ce96f-d797-4a2d-b771-e3f3d2f4c530",
   "metadata": {},
   "source": [
    "Les *arrays numpy* ainsi créés sont effectivement les masques booléens de chaqun des 6 noyaux.\n",
    "\n",
    "### Mesure de l'intensité des noyaux"
   ]
  },
  {
   "cell_type": "markdown",
   "id": "c5b95845-e346-49bb-805e-ff07ea69695f",
   "metadata": {},
   "source": [
    "Pour mesurer l'aire de chaque noyau, nous comptons le nombre de pixel présent dans chaque région. Les pixels étiquetés ayant pour  valeur `True` et les autres pixels `False`, il suffit de faire la somme des éléments de chaque masque booléen pour obtenir l'aire (en pixel) de chaque noyau.  \n",
    "\n",
    "Pour mesurer l'intensité totale de chaque noyau, nous faisons la somme des valeurs d'intensité contenues dans l'*array numpy* du canal bleu (`canal_bleu`) associées aux pixels appartenant au noyau mesuré. Chaque intensité totale est ensuite divisée par l'aire du noyau correspondant pour obtenir des intensités moyennes."
   ]
  },
  {
   "cell_type": "code",
   "execution_count": null,
   "id": "0eb1b19e-1bed-45ca-a009-6f59099eceb6",
   "metadata": {},
   "outputs": [],
   "source": [
    "# measure nuclei areas\n",
    "\n",
    "# create empty list to  store areas\n",
    "nuc_areas = []\n",
    "\n",
    "# measure each nucleus area and append it to nuc_areas\n",
    "for i in range(num_obj):\n",
    "    area = np.sum(nuclei_obj[i])\n",
    "    nuc_areas.append(area)\n",
    "\n",
    "# nuclei mean intensities\n",
    "\n",
    "# create empty list to store mean intensities\n",
    "nuc_intensities = []\n",
    "\n",
    "# measure each nucleus intensity and append it to nuc_intensities\n",
    "for i in range(num_obj):\n",
    "    intensity = np.sum(nuclei_obj[i] * canal_bleu) / nuc_areas[i]\n",
    "    nuc_intensities.append(intensity)\n",
    "\n",
    "\n",
    "for i in range(num_obj): \n",
    "    print(f\"nuclei {i + 1} :  mean intensity = {nuc_intensities[i]:.1f}\"\n",
    "          f\" per pixel ; area =  {nuc_areas[i]} pixels\")"
   ]
  },
  {
   "cell_type": "markdown",
   "id": "292bfecb-b2db-4e97-9c66-79d498667cd5",
   "metadata": {},
   "source": [
    "La taille d'un pixel n'étant pas connue, ces mesures ne peuvent pas être exprimées avec les unités du système métrique. "
   ]
  },
  {
   "cell_type": "markdown",
   "id": "ac2f7d57-d376-45b3-8d91-307783d65442",
   "metadata": {},
   "source": [
    "Il existe également une fonction du sous module `measure` de *scikit-image* qui permet de réaliser différentes mesures sur notre image en un seul appel de fonction. Nous nous intéresseront plus particulièrement à l'aire, l'intensité moyenne et le périmètre des noyaux que l'on a segmenté auparavent. Toute ces mesures seront stocké dans un data-frame Pandas que l'on nomera `measure_nuclei` et que l'on sauvegardera dans un fichier CSV, nommé `measure_nuclei.csv`\n",
    "\n",
    "---------------------------\n",
    "\n",
    "Heureusement, ces mesures peuvent également être effectuées à l'aide du module *scikit-image*. La fonction `regionprops` du sous-module `measure` de *scikit-image* décrit un certain nombre de propriétés associées à chaque région étiquetée, dont l'aire et l'intensité moyenne. Ces propriétés sont accessibles *via* les attributs associés à l'objet renvoyé par la fonction (ici, `.area` pour l'aire, et `mean_intensity` pour l'intensité moyenne)."
   ]
  },
  {
   "cell_type": "code",
   "execution_count": null,
   "id": "336f9236-b2df-4f3f-917d-f4b64b592dc8",
   "metadata": {},
   "outputs": [],
   "source": [
    "nuclei_props = skimage.measure.regionprops(approved_lab,\n",
    "                                           intensity_image=canal_bleu)\n",
    "\n",
    "measure_nuclei = pd.DataFrame(\n",
    "    {\"area\" : [nuclei_props[i].area for i\n",
    "               in range(len(nuclei_props))],\n",
    "     \n",
    "     \"mean_intensity\" : [nuclei_props[i].mean_intensity for i\n",
    "                         in range(len(nuclei_props))],\n",
    "     \n",
    "     \"perimeter\" : [nuclei_props[i].perimeter for i\n",
    "                    in range(len(nuclei_props))],\n",
    "     \n",
    "     \"eccentricity\" : [nuclei_props[i].eccentricity for i\n",
    "                      in range(len(nuclei_props))]\n",
    "    }\n",
    ")\n",
    "\n",
    "measure_nuclei.to_csv(\"measure_nuclei.csv\", sep = \";\")"
   ]
  },
  {
   "cell_type": "code",
   "execution_count": null,
   "id": "f05f7dde-29b8-45b7-b918-95f6c16bee6a",
   "metadata": {},
   "outputs": [],
   "source": [
    "print(measure_nuclei)"
   ]
  },
  {
   "cell_type": "markdown",
   "id": "0b1b3535-997e-4816-846b-4a553231080b",
   "metadata": {},
   "source": [
    "La distribution de l'aire des noyaux peut être visualisée sous forme d'histogramme."
   ]
  },
  {
   "cell_type": "code",
   "execution_count": null,
   "id": "051732f7-8eeb-41e7-9f30-86ce002b418b",
   "metadata": {},
   "outputs": [],
   "source": [
    "plt.figure(figsize=(8, 6))\n",
    "plt.rc(\"font\", size=15)\n",
    "plt.hist(measure_nuclei[\"area\"], bins=10)\n",
    "plt.title(\"Nucleus areas distribution\")\n",
    "plt.xlabel(\"area (pixel)\")\n",
    "plt.ylabel(\"count\");"
   ]
  },
  {
   "cell_type": "markdown",
   "id": "b104ad27-9527-4f42-9d2e-626177709422",
   "metadata": {},
   "source": [
    "### Intensité moyenne des noyaux"
   ]
  },
  {
   "cell_type": "markdown",
   "id": "daa98d05-f339-4b2d-89b4-98618d97971d",
   "metadata": {},
   "source": [
    "La distribution de l'intensité moyenne des noyaux peut être visualisée sous forme d'histogramme."
   ]
  },
  {
   "cell_type": "code",
   "execution_count": null,
   "id": "eadd40d3-6e9e-4fc8-8af5-dc0bbb72e8a4",
   "metadata": {},
   "outputs": [],
   "source": [
    "plt.figure(figsize=(8, 6))\n",
    "plt.rc(\"font\", size=15)\n",
    "plt.hist(measure_nuclei[\"mean_intensity\"], bins=10)\n",
    "plt.title(\"Nucleus mean intensities distribution\")\n",
    "plt.xlabel(\"mean intensity (per pixel)\")\n",
    "plt.ylabel(\"count\");"
   ]
  },
  {
   "cell_type": "markdown",
   "id": "7f9841d1-7670-4cc1-bd32-091e5bf2c361",
   "metadata": {},
   "source": [
    "Nous pouvons aussi représenter l'aire et l'intensité moyenne de chaque noyau sur le même graphique en traçant un nuage de points."
   ]
  },
  {
   "cell_type": "code",
   "execution_count": null,
   "id": "6c9262b7-b7c0-4c8e-bd45-1f00970de669",
   "metadata": {},
   "outputs": [],
   "source": [
    "plt.figure(figsize=(8, 6))\n",
    "plt.rc(\"font\", size=15)\n",
    "plt.plot(measure_nuclei[\"area\"], measure_nuclei[\"mean_intensity\"], \"s\")\n",
    "plt.title(\"Area relative to mean intensity \\n pixel of individual nuclei\")\n",
    "plt.xlabel(\"Area (pixel)\")\n",
    "plt.ylabel(\"Mean intensity (per pixel)\");"
   ]
  },
  {
   "cell_type": "code",
   "execution_count": null,
   "id": "d439b295-1e75-488e-9bfe-7d94901daa25",
   "metadata": {},
   "outputs": [],
   "source": [
    "plt.figure(figsize=(8, 6))\n",
    "plt.rc(\"font\", size=15)\n",
    "plt.plot(measure_nuclei[\"area\"], measure_nuclei[\"perimeter\"], \"s\")\n",
    "plt.title(\"Area relative to perimeter \\n pixel of individual nuclei\")\n",
    "plt.xlabel(\"Area (pixel)\")\n",
    "plt.ylabel(\"Perimeter\");"
   ]
  },
  {
   "cell_type": "code",
   "execution_count": null,
   "id": "7edcbfaf-5c9e-4af2-a331-1bd51a80a7f9",
   "metadata": {},
   "outputs": [],
   "source": [
    "fig = px.imshow(img)\n",
    "fig.update_traces(hoverinfo='skip') # hover is only for label info\n",
    "fig.update_layout(autosize=False, width=500, height=500)\n",
    "\n",
    "properties = ['area', 'perimeter', 'mean_intensity', 'eccentricity']\n",
    "\n",
    "# For each label, add a filled scatter trace for its contour,\n",
    "# and display the properties of the label in the hover of this trace.\n",
    "for index in range(0, approved_lab.max()):\n",
    "    label_i = nuclei_props[index].label\n",
    "    contour = skimage.measure.find_contours(approved_lab == label_i, 0.5)[0]\n",
    "    y, x = contour.T\n",
    "    hoverinfo = ''\n",
    "    for prop_name in properties:\n",
    "        hoverinfo += f'<b>{prop_name}: {getattr(nuclei_props[index], prop_name):.2f}</b><br>'\n",
    "    fig.add_trace(go.Scatter(\n",
    "        x=x, y=y, name=label_i,\n",
    "        mode='lines', fill='toself', showlegend=False,\n",
    "        hovertemplate=hoverinfo, hoveron='points+fills'))\n",
    "\n",
    "plotly.io.show(fig)"
   ]
  },
  {
   "cell_type": "code",
   "execution_count": null,
   "id": "ca6d0197-2dec-4efb-9325-d08dd06235fc",
   "metadata": {},
   "outputs": [],
   "source": []
  }
 ],
 "metadata": {
  "kernelspec": {
   "display_name": "Python 3 (ipykernel)",
   "language": "python",
   "name": "python3"
  },
  "language_info": {
   "codemirror_mode": {
    "name": "ipython",
    "version": 3
   },
   "file_extension": ".py",
   "mimetype": "text/x-python",
   "name": "python",
   "nbconvert_exporter": "python",
   "pygments_lexer": "ipython3",
   "version": "3.7.9"
  }
 },
 "nbformat": 4,
 "nbformat_minor": 5
}
