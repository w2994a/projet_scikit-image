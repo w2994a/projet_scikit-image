{
 "cells": [
  {
   "cell_type": "markdown",
   "id": "f8ecaea5-54bb-4d4d-8ac9-abaf2e221077",
   "metadata": {
    "tags": []
   },
   "source": [
    "# Analyse d'une image de microscopie à l'aide du module *scikit-image*  \n",
    "\n",
    "- Auteurs : William Amory, Jeyani George Clement et Tristan Woh   \n",
    "- Université de Paris  \n",
    "\n",
    "Ce notebook a pour objectif d'illustrer une utilisation simplifiée du module *scikit-image* pour l'analyse d'une image de cellules issue d'un microscope photonique à épifluorescence. On cherche à compter le nombre de noyaux présents sur l’image, et à mesurer leur taille et leur intensité de fluorescence.\n",
    "\n",
    "## Chargement des modules"
   ]
  },
  {
   "cell_type": "code",
   "execution_count": null,
   "id": "6f12873f-0bbf-4618-9544-e17f0b9b238b",
   "metadata": {},
   "outputs": [],
   "source": [
    "# Function for downloading the image to be analyzed.\n",
    "from urllib.request import urlretrieve\n",
    "\n",
    "# Basic modules.\n",
    "\n",
    "import os\n",
    "import numpy as np\n",
    "import pandas as pd\n",
    "import matplotlib.pyplot as plt\n",
    "\n",
    "\n",
    "# Scikit-image sub-modules for image manipulation and analysis.\n",
    "\n",
    "# Reading and writing an image.\n",
    "import skimage.io\n",
    "# Sub-module used to build histograms.\n",
    "import skimage.exposure\n",
    "# Sub-module used to perform measurements on the image.\n",
    "import skimage.measure\n",
    "# Sub-module for image filtering.\n",
    "import skimage.filters\n",
    "\n",
    "# Modules to create interactive graphics.\n",
    "import plotly\n",
    "import plotly.express as px\n",
    "import plotly.graph_objects as go\n",
    "\n",
    "# Visualization of graphics and images in the notebook.\n",
    "%matplotlib inline"
   ]
  },
  {
   "cell_type": "markdown",
   "id": "21b58f53-17c8-4cb1-980c-f3a1d34c849b",
   "metadata": {
    "tags": []
   },
   "source": [
    "## Téléchargement et décompression de l'image à analyser"
   ]
  },
  {
   "cell_type": "code",
   "execution_count": null,
   "id": "8aaf37c0-ae79-428f-941f-60b96aeee905",
   "metadata": {},
   "outputs": [],
   "source": [
    "# Download the image if it's not present in the current directory.\n",
    "if not os.path.isfile(\"../img/FluorescentCells.zip\"):\n",
    "    print(\"Downloading the TIFF file for fluorescent cells image...\")\n",
    "    try:\n",
    "        urlretrieve(\"https://imagej.nih.gov/ij/images/FluorescentCells.zip\",\n",
    "            \"../img/FluorescentCells.zip\")\n",
    "        print(\"Ok\")\n",
    "    except:\n",
    "        print(\"Unable to download the file !\")\n",
    "    print(\"Done !\")\n",
    "\n",
    "# Unzip the FluorescentCells.zip file if the image is not unzipped.\n",
    "if not os.path.isfile(\"../img/FluorescentCells.tif\"):\n",
    "    print(\"Unzip of FluorescentCells.zip\")\n",
    "    try:\n",
    "        !unzip FluorescentCells.zip\n",
    "        print(\"Ok\")\n",
    "    except:\n",
    "        print(\"Unable to unzip the image !\")\n",
    "    print(\"Done !\")"
   ]
  },
  {
   "cell_type": "markdown",
   "id": "0efd689a-72b7-49e1-9c72-e4fd9baec1f2",
   "metadata": {},
   "source": [
    "## Chargement et visualisation de l'image à analyser\n",
    "\n",
    "L'image à analyser provient du [NIH](https://imagej.nih.gov/ij/images/FluorescentCells.zip).\n",
    "L'image est chargée et stockée dans un tableau *numpy* à l'aide de la fonction `imread()` du sous-module `io` de *scikit-image*."
   ]
  },
  {
   "cell_type": "code",
   "execution_count": null,
   "id": "15362e0a-84c9-45f0-8c53-624d3fb3ef0c",
   "metadata": {},
   "outputs": [],
   "source": [
    "img = skimage.io.imread(\"../img/FluorescentCells.tif\")"
   ]
  },
  {
   "cell_type": "code",
   "execution_count": null,
   "id": "956d72e8-ec46-4832-90fc-3fb8966d0012",
   "metadata": {},
   "outputs": [],
   "source": [
    "plt.figure(figsize=(8, 8))\n",
    "plt.imshow(img)\n",
    "plt.axis(\"off\");"
   ]
  },
  {
   "cell_type": "markdown",
   "id": "06df7d3b-1eae-4ba1-9b1f-2ea3c53cf9fd",
   "metadata": {},
   "source": [
    "D'après la [description](https://imagej.nih.gov/ij/images/FluorescentCells.txt) de cette image, il s'agit de cellules endothéliales d'artère pulmonaire bovine obtenue par microscopie à épifluorescence. Les filaments d'actine sont marqués en rouge, les microtubules en vert, et les noyaux en bleu."
   ]
  },
  {
   "cell_type": "code",
   "execution_count": null,
   "id": "4ba5fcef-8cf1-40aa-a916-bf1af6d3e54d",
   "metadata": {},
   "outputs": [],
   "source": [
    "print(f\"Dimensions de l'image : {img.shape}\")\n",
    "print(f\"Représentation du pixel (0, 0): {img[0, 0, :]}\")"
   ]
  },
  {
   "cell_type": "markdown",
   "id": "030181e0-c24a-40a3-b2db-254874b36a71",
   "metadata": {},
   "source": [
    "L'image est tridimensionnelle. Les deux premières dimensions correspondent aux coordonnées (ligne, colonne) des pixels de l'image. La dernière dimension correspondant aux différents canaux. C'est une image RGB ; le pixel (0, 0) a pour valeur 16 dans le canal rouge, 50 dans le canal vert, et 0 dans le canal bleu.  \n",
    "\n",
    "## Sélection du canal d'intérêt\n",
    "Le canal d'intérêt est le canal bleu, puisque que les noyaux sont marqués au DAPI. Il faut dont utiliser l'indice `2` dans la troisième dimension de ce tableau *numpy* pour le sélectionner (`1` est le canal rouge et `3` le canal vert)."
   ]
  },
  {
   "cell_type": "code",
   "execution_count": null,
   "id": "9064c83c-0279-4f2b-a0f6-c6c09a252a7d",
   "metadata": {},
   "outputs": [],
   "source": [
    "channel_blue = img[:, :, 2]"
   ]
  },
  {
   "cell_type": "markdown",
   "id": "d68810de-5426-44bc-af6b-b5fe7391b8dc",
   "metadata": {},
   "source": [
    "### Affichage du canal d'intérêt"
   ]
  },
  {
   "cell_type": "code",
   "execution_count": null,
   "id": "55ea555e-0505-4db9-84b7-7dd417cda987",
   "metadata": {},
   "outputs": [],
   "source": [
    "plt.figure(figsize=(8, 8))\n",
    "plt.imshow(channel_blue, cmap=\"gray\")\n",
    "plt.axis(\"off\");"
   ]
  },
  {
   "cell_type": "markdown",
   "id": "8d5409e1-2055-4705-b052-411e83ed8fd9",
   "metadata": {},
   "source": [
    "La sélection effectuée permet d'identifier les noyaux.\n",
    "\n",
    "## Segmentation des noyaux\n",
    "\n",
    "Pour sélectionner les noyaux et éliminer le bruit présent sur cette image, nous allons ici utiliser un seuil d'intensité. \n",
    "\n",
    "### Estimation du seuil\n",
    "\n",
    "Pour déterminer ce seuil, nous réalisons un histogramme en utilsant la fonction `histogram` du sous-module `exposure` de *scikit-image*. Cette fonction renvoie les valeurs nécessaires à la construction de l'histogramme représentant la distribution de la valeurs des pixels de l'image."
   ]
  },
  {
   "cell_type": "code",
   "execution_count": null,
   "id": "eb2f828d-92d4-4bf9-86ee-ce9cd5d760b4",
   "metadata": {},
   "outputs": [],
   "source": [
    "count, pixel_value = skimage.exposure.histogram(channel_blue)\n",
    "plt.figure(figsize=(8, 6))\n",
    "plt.rc(\"font\", size=15)\n",
    "plt.plot(pixel_value, count)\n",
    "plt.title(\"Pixel values distribution of the blue channel\")\n",
    "plt.xlabel(f\"Pixel value ({channel_blue.dtype})\")\n",
    "plt.ylabel(\"Count pixel\");"
   ]
  },
  {
   "cell_type": "markdown",
   "id": "a8ea3a3c-ab1b-4061-bb2b-9e5d19081ca0",
   "metadata": {},
   "source": [
    "La plupart des valeurs de pixel étant nulles (aucune intensité dans le canal bleu), nous fixons une valeur limite sur l'axe des abscisses (ici, 100) pour distinguer les comptes de pixel sur l'ensemble de l'histogramme."
   ]
  },
  {
   "cell_type": "code",
   "execution_count": null,
   "id": "8dbaab5d-3456-41a1-9bdf-b4aa7fdb9f38",
   "metadata": {},
   "outputs": [],
   "source": [
    "plt.figure(figsize=(8, 6))\n",
    "plt.rc(\"font\", size=15)\n",
    "plt.plot(pixel_value, count)\n",
    "plt.ylim(0, 100)\n",
    "plt.title(\"Pixel values distribution of the blue channel\")\n",
    "plt.xlabel(f\"Pixel value ({channel_blue.dtype})\")\n",
    "plt.ylabel(\"Count pixel\");"
   ]
  },
  {
   "cell_type": "markdown",
   "id": "3c5b9b29-0b22-4596-82e8-ad97418f7bd8",
   "metadata": {},
   "source": [
    "On remarque un minimum local proche de 80 pour la valeur des pixels.\n",
    "\n",
    "### Segmentation\n",
    "\n",
    "Nous choisissons donc un seuil de 80 pour la sélection des noyaux."
   ]
  },
  {
   "cell_type": "code",
   "execution_count": null,
   "id": "07597e04-6a3a-4e58-8f7a-8a9764bbf894",
   "metadata": {},
   "outputs": [],
   "source": [
    "THRESHOLD = 80\n",
    "nuclei_mask = channel_blue > THRESHOLD\n",
    "\n",
    "print(f\"{nuclei_mask.dtype}: {np.unique(nuclei_mask)}\")"
   ]
  },
  {
   "cell_type": "markdown",
   "id": "b3e64b8e-bcb1-4fd4-8d9c-2d0ec8f58f61",
   "metadata": {},
   "source": [
    "Le tableau *numpy* `nuclei_mask` ainsi créé est en fait un masque booléen. Nous pouvons l'afficher afin de voir les objets segmentés."
   ]
  },
  {
   "cell_type": "code",
   "execution_count": null,
   "id": "f078032e-0908-4b1f-a96f-0174172920a8",
   "metadata": {},
   "outputs": [],
   "source": [
    "# Create subplots to display all images in a single figure.\n",
    "fig, axes = plt.subplots(nrows=1, ncols=2, figsize=(12, 21))\n",
    "\n",
    "# Make the array of axes 1-dimensional.\n",
    "axes = axes.ravel()\n",
    "\n",
    "# Turn off axis lines and labels.\n",
    "for ax in axes:\n",
    "    ax.axis(\"off\")\n",
    "\n",
    "axes[0].imshow(channel_blue, cmap=\"gray\")\n",
    "axes[0].set_title(\"Blue channel\")\n",
    "\n",
    "axes[1].imshow(nuclei_mask, cmap=\"gray\")\n",
    "axes[1].set_title(\"Segmented nuclei\");"
   ]
  },
  {
   "cell_type": "markdown",
   "id": "03ddc839-bd4e-4b7a-a314-f89147862fa4",
   "metadata": {},
   "source": [
    "Nous constatons que la segmentation a plutôt bien fonctionné : tous les noyaux ont été segmentés. Toutefois, un petit groupe de pixels n'appartenant à aucun noyau se retrouve également segmenté. Pour éviter cet artefact, nous allons réaliser une sélection des noyaux sur la base de l'aire des objets segmentés.  \n",
    "\n",
    "Afin de pouvoir pousuivre l'analyse de cette image, nous devons retirer la zone de texte qui pourrait biaiser le résultat."
   ]
  },
  {
   "cell_type": "code",
   "execution_count": null,
   "id": "5d8cd1af-9a70-4241-be6a-bd64149205b5",
   "metadata": {},
   "outputs": [],
   "source": [
    "# Create subplots to display all images in a single figure.\n",
    "fig, axes = plt.subplots(nrows=1, ncols=2, figsize=(12, 21))\n",
    "\n",
    "# Make the array of axes 1-dimensional.\n",
    "axes = axes.ravel()\n",
    "\n",
    "# Turn off axis lines and labels.\n",
    "for ax in axes:\n",
    "    ax.axis(\"off\")\n",
    "\n",
    "axes[0].imshow(nuclei_mask, cmap=\"gray\")\n",
    "axes[0].set_title(\"Segmented nuclei with text\")\n",
    "\n",
    "axes[1].imshow(nuclei_mask[:476, :], cmap=\"gray\")\n",
    "axes[1].set_title(\"Segmented nuclei without text\");"
   ]
  },
  {
   "cell_type": "markdown",
   "id": "1dce295a-3b01-4fc1-b3c0-1f15d943897b",
   "metadata": {},
   "source": [
    "En sélectionnant les lignes de 0 à 475, cela a retiré la zone de texte sans perte d'information (dans le canal bleu) pour la suite de l'analyse."
   ]
  },
  {
   "cell_type": "code",
   "execution_count": null,
   "id": "1dcedf76-a5d3-497e-9730-03975ef4c153",
   "metadata": {},
   "outputs": [],
   "source": [
    "nuclei_mask = nuclei_mask[:476, :]\n",
    "channel_blue = channel_blue[:476, :]"
   ]
  },
  {
   "cell_type": "markdown",
   "id": "ef10d225-3e50-4395-9098-27c807059a07",
   "metadata": {},
   "source": [
    "### Etiquetage et comptage des noyaux\n",
    "\n",
    "La fonction `label` du sous-module `measure` de *scikit-image* permet d'étiqueter chaque région contiguë de pixels de même valeur d'un tableau d'entiers. Nous l'utilisons ici pour donner une étiquette à chaque région. En plus, elle retourne aussi le nombre de régions présentes dans le tableau *numpy* avec l'argument `return_num=True`."
   ]
  },
  {
   "cell_type": "code",
   "execution_count": null,
   "id": "eaf19c62-bc32-429c-af84-32f5d87bbf00",
   "metadata": {},
   "outputs": [],
   "source": [
    "# Set nuclei_num to True to return the number of labeled regions as well.\n",
    "# Background=0 is used to consider 0-valued pixels as background altough\n",
    "# also a connected region.\n",
    "nuclei_lab, nuclei_num = skimage.measure.label(nuclei_mask, background=0,\n",
    "                                               return_num=True)\n",
    "\n",
    "print(f\"Number of segmented objects: {nuclei_num}\")"
   ]
  },
  {
   "cell_type": "markdown",
   "id": "815e1805-9127-45a5-a21f-5f9778d604a6",
   "metadata": {},
   "source": [
    "Au total, 7 régions ont été segmentées."
   ]
  },
  {
   "cell_type": "code",
   "execution_count": null,
   "id": "65698eeb-674d-410d-9d4f-23becbc50e1f",
   "metadata": {},
   "outputs": [],
   "source": [
    "print(nuclei_lab.shape)\n",
    "print(np.unique(nuclei_lab))\n",
    "plt.figure(figsize=(8, 8))\n",
    "plt.imshow(nuclei_lab, cmap=\"nipy_spectral\", interpolation='none')\n",
    "plt.axis(\"off\");"
   ]
  },
  {
   "cell_type": "markdown",
   "id": "17fd157c-8d43-41eb-b3e4-bef987136341",
   "metadata": {},
   "source": [
    "Le tableau *numpy* étiqueté (`nuclei_lab`) est de même dimension que le tableau d'origine (`true_nuclei`), mais il comporte 8 valeurs distinctes : une valeur pour les pixels du background, et 7 autres valeurs (de 1 à 7) pour les 7 régions segmentées, comme on le constate en affichant l'image étiquetée en couleurs.\n",
    "\n",
    "Pour retirer l'artefact, nous allons mesurer l'aire des objets et éliminer celui ayant une aire trop petite pour être un noyau.  \n",
    "\n",
    "### Calcul de l'aire des objets\n",
    "\n",
    "Nous allons mesurer l'aire des objets segmentés. Pour cela, nous commençons par créer un masque booléen pour chacun des 7 objets segmentés."
   ]
  },
  {
   "cell_type": "code",
   "execution_count": null,
   "id": "6bf3eb59-5231-46bc-8320-0a05dc62ae8b",
   "metadata": {},
   "outputs": [],
   "source": [
    "# List to store numpy arrays of each nucleus boolean mask.\n",
    "nuclei_obj = []\n",
    "\n",
    "# Create each nucleus boolean mask using its label and append it to nuclei_obj.\n",
    "for i in range(nuclei_num):\n",
    "    nuc = (nuclei_lab == i + 1)\n",
    "    nuclei_obj.append(nuc)\n",
    "\n",
    "fig, axes = plt.subplots(nrows=3, ncols=3, figsize=(15, 15))\n",
    "\n",
    "# Make the array of axes 1-dimensional.\n",
    "axes = axes.ravel()\n",
    "\n",
    "# Turn off axis lines and labels.\n",
    "for ax in axes:\n",
    "    ax.axis(\"off\")\n",
    "\n",
    "for i, nuc in enumerate(nuclei_obj):\n",
    "    axes[i].imshow(nuc, cmap=\"gray\")\n",
    "    axes[i].set_title(\"nucleus #\" + str(i + 1))"
   ]
  },
  {
   "cell_type": "markdown",
   "id": "319da33d-2c32-4648-917a-9308a48ba299",
   "metadata": {},
   "source": [
    "Les tableaux *numpy* ainsi créés sont effectivement les masques booléens de chacun des 7 objets segmentés.  \n",
    "\n",
    "Pour mesurer l'aire de chaque noyau, nous comptons le nombre de pixels présent dans chaque région. Les pixels étiquetés ayant pour valeur `True` et les autres pixels `False`, il suffit de faire la somme des éléments de chaque masque booléen pour obtenir l'aire (en pixel) de chaque noyau."
   ]
  },
  {
   "cell_type": "code",
   "execution_count": null,
   "id": "383b41d0-e02c-478b-a85a-c2bb24427e6f",
   "metadata": {},
   "outputs": [],
   "source": [
    "# Create empty list to store areas.\n",
    "nuc_areas = []\n",
    "\n",
    "# Measure each nucleus area and append it to nuc_areas.\n",
    "for i in range(nuclei_num):\n",
    "    area = np.sum(nuclei_obj[i])\n",
    "    nuc_areas.append(area)\n",
    "    print(f\"nuc_{i + 1} area: {nuc_areas[i]} pixels\")"
   ]
  },
  {
   "cell_type": "markdown",
   "id": "45314109-f091-4563-81b1-addab8fb2535",
   "metadata": {},
   "source": [
    "On remarque que l'objet `nuc_6` a une aire de 18 pixels, une valeur trop faible pour concidérer cet objet comme un noyau. Nous pouvons donc désormais sélectionner les noyaux.  \n",
    "\n",
    "### Sélection des noyaux\n",
    "\n",
    "Afin de réaliser cette sélection, nous allons créer un tableau *numpy* qui contiendra les objets dont l'aire est supérieure ou égale au seuil fixé de 50 pixels."
   ]
  },
  {
   "cell_type": "code",
   "execution_count": null,
   "id": "3922a090-06b7-4efb-97b0-cc4a55d4909c",
   "metadata": {},
   "outputs": [],
   "source": [
    "THRESHOLD_AREA = 50\n",
    "# Make an empty image the same size as our orignal binary image.\n",
    "approved_nuclei = np.zeros_like(nuclei_mask)\n",
    "\n",
    "# Loop through each object and test its area.\n",
    "for i in range(nuclei_num):\n",
    "    # Get the cell of interest.\n",
    "    nuclei = (nuclei_lab == i + 1)\n",
    "\n",
    "    # Compute its area.\n",
    "    cell_area = np.sum(nuclei)\n",
    "\n",
    "    # Test if it is within our bounds.\n",
    "    if (cell_area > THRESHOLD_AREA):\n",
    "\n",
    "        # Add our extraced cell to our blank image.\n",
    "        approved_nuclei += nuclei\n",
    "\n",
    "# Relabel and show the approved_cells mask.\n",
    "approved_lab, num_obj = skimage.measure.label(approved_nuclei,\n",
    "                                              return_num=True)\n",
    "\n",
    "print(f\"Number of nuclei: {num_obj}\")\n",
    "plt.figure(figsize=(8, 8))\n",
    "plt.imshow(approved_lab, cmap=\"nipy_spectral\", interpolation='none')\n",
    "plt.axis(\"off\");"
   ]
  },
  {
   "cell_type": "markdown",
   "id": "0f6d84f3-1679-4acb-aae8-6e9d0ef2a157",
   "metadata": {},
   "source": [
    "On remarque que l'artefact n'est plus considéré comme étant un noyau. On compte bien 6 noyaux.  \n",
    "\n",
    "## Méthode alternative : segmentation après filtrage de l'image\n",
    "\n",
    "Il existe une seconde manière permettant de ne segmenter que des noyaux, en effectuant un filtrage de l'image avant l'étape de segmentation.\n",
    "\n",
    "Ici, nous appliquerons un filtre gaussien, ce qui permet de réduire le bruit en lissant l'image par une méthode de \"convolution\". Cette méthode consiste à calculer une nouvelle valeur pour chaque pixel de l'image en faisant la moyenne des valeurs de ce pixel et des pixels l'entourant, le poids relatif donné à chaque pixel étant déterminé par les valeurs contenues dans un kernel (ici, un kernel gaussien).  \n",
    "\n",
    "L'image filtrée `channel_blue_filtered` est obtenue en appliquant sur le canal bleu (`channel_blue`) la fonction `gaussian()` du sous-module `filters` de *scikit-image*."
   ]
  },
  {
   "cell_type": "code",
   "execution_count": null,
   "id": "46216c10-783a-47e0-a93b-82a5bbf3b2a5",
   "metadata": {},
   "outputs": [],
   "source": [
    "channel_blue_filtered = skimage.filters.gaussian(channel_blue,\n",
    "                                                sigma=2,\n",
    "                                                preserve_range=True)"
   ]
  },
  {
   "cell_type": "code",
   "execution_count": null,
   "id": "fbd59a85-ee84-4c48-941b-bb302765bf59",
   "metadata": {},
   "outputs": [],
   "source": [
    "# Create subplots to display all images in a single figure.\n",
    "fig, axes = plt.subplots(nrows=1, ncols=2, figsize=(12, 21))\n",
    "\n",
    "# Make the array of axes 1-dimensional.\n",
    "axes = axes.ravel()\n",
    "\n",
    "# Turn off axis lines and labels.\n",
    "for ax in axes:\n",
    "    ax.axis(\"off\")\n",
    "\n",
    "axes[0].imshow(channel_blue, cmap=\"gray\")\n",
    "axes[0].set_title(\"blue channel\")\n",
    "\n",
    "axes[1].imshow(channel_blue_filtered, cmap=\"gray\")\n",
    "axes[1].set_title(\"blue channel (gaussian filter, σ=2)\");"
   ]
  },
  {
   "cell_type": "markdown",
   "id": "2e74c25d-b2b2-486a-b6e5-dfff9c507574",
   "metadata": {},
   "source": [
    "L'artefact étant directement entouré de pixels ayant des valeurs faibles du fait de sa petite aire, on s'attend à ce que le filtrage réduise davantage son intensité que celle des objets identifiés comme des noyaux, qui on une aire plus importante.  \n",
    "\n",
    "### Segmentation (après filtrage avec le filtre gaussien)\n",
    "\n",
    "La segmentation est toujours réalisée avec un seuil de 80, mais cette fois sur l'image filtrée avec le filtre gaussien."
   ]
  },
  {
   "cell_type": "code",
   "execution_count": null,
   "id": "b53d24e6-9f31-4e5e-809a-470300c400bc",
   "metadata": {},
   "outputs": [],
   "source": [
    "THRESHOLD = 80\n",
    "true_nuclei = (channel_blue_filtered > THRESHOLD)\n",
    "true_nuclei = true_nuclei.astype(int)\n",
    "\n",
    "# Create subplots to display all images in a single figure.\n",
    "fig, axes = plt.subplots(nrows=1, ncols=2, figsize=(12, 21))\n",
    "\n",
    "# Make the array of axes 1-dimensional.\n",
    "axes = axes.ravel()\n",
    "\n",
    "# Turn off axis lines and labels.\n",
    "for ax in axes:\n",
    "    ax.axis(\"off\")\n",
    "\n",
    "axes[0].imshow(nuclei_mask, cmap=\"gray\")\n",
    "axes[0].set_title(\"segmented nuclei (before filtering)\")\n",
    "\n",
    "axes[1].imshow(true_nuclei, cmap=\"gray\")\n",
    "axes[1].set_title(\"segmented nuclei (after filtering)\");"
   ]
  },
  {
   "cell_type": "markdown",
   "id": "2091b1d8-1b54-4057-b03f-34155baff7a6",
   "metadata": {},
   "source": [
    "L'application du filtre gaussien a permis de ne pas retenir l'artefact lors de la segmentation.\n",
    "\n",
    "Par contre, comme le filtrage modifie l'image, les régions segmentées ne correspondent pas exactement aux noyaux segmentés précedemment sur l'image non modifiée (ce n'est pas visible ici, mais il y a eu une perte de pixels en périphérie des noyaux). Cela n'est pas souhaitable car nous voulons effectuer diverses mesures sur les noyaux. La première méthode est donc à privilégier."
   ]
  },
  {
   "cell_type": "markdown",
   "id": "0e39715a-bb8e-486a-936f-5bcb3ca61787",
   "metadata": {},
   "source": [
    "## Mesures sur les noyaux\n",
    "\n",
    "Nous allons effectuer des mesures sur les noyaux. Pour cela, nous commençons par créer un masque booléen pour chacun des 6 noyaux, comme vu précédemment."
   ]
  },
  {
   "cell_type": "code",
   "execution_count": null,
   "id": "ec4c47e0-112b-4dfa-8a56-38865718957a",
   "metadata": {},
   "outputs": [],
   "source": [
    "# List to store numpy arrays of each nucleus boolean mask.\n",
    "nuclei_obj = []\n",
    "\n",
    "# Create each nucleus boolean mask using its label and append it to nuclei_obj.\n",
    "for i in range(num_obj):\n",
    "    nuc = (approved_lab == i + 1)\n",
    "    nuclei_obj.append(nuc)\n",
    "\n",
    "fig, axes = plt.subplots(nrows=2, ncols=3, figsize=(16, 10))\n",
    "\n",
    "axes = axes.ravel()\n",
    "\n",
    "# Turn off axis lines and labels.\n",
    "for ax in axes:\n",
    "    ax.axis(\"off\")\n",
    "\n",
    "for i, nuc in enumerate(nuclei_obj):\n",
    "    axes[i].imshow(nuc, cmap=\"gray\")\n",
    "    axes[i].set_title(\"nucleus #\" + str(i + 1))"
   ]
  },
  {
   "cell_type": "markdown",
   "id": "c5b95845-e346-49bb-805e-ff07ea69695f",
   "metadata": {},
   "source": [
    "Les tableaux *numpy* ainsi créés sont effectivement les masques booléens de chacun des 6 noyaux.\n",
    "\n",
    "### Mesure de l'aire et de l'intensité des noyaux  \n",
    "\n",
    "Nous avons déjà vu comment mesurer l'aire des noyaux en se servant de ces masques booléens. Voyons maintenant comment mesurer leur intensité.\n",
    "\n",
    "Pour mesurer l'intensité totale de chaque noyau, nous faisons la somme des valeurs d'intensité contenues dans le tableau *numpy* du canal bleu (`channel_blue`) associées aux pixels appartenant au noyau mesuré. Chaque intensité totale est ensuite divisée par l'aire du noyau correspondant pour obtenir des intensités moyennes."
   ]
  },
  {
   "cell_type": "code",
   "execution_count": null,
   "id": "0eb1b19e-1bed-45ca-a009-6f59099eceb6",
   "metadata": {},
   "outputs": [],
   "source": [
    "# Measure nuclei areas.\n",
    "\n",
    "# Create empty list to  store areas.\n",
    "nuc_areas = []\n",
    "\n",
    "# Measure each nucleus area and append it to nuc_areas.\n",
    "for i in range(num_obj):\n",
    "    area = np.sum(nuclei_obj[i])\n",
    "    nuc_areas.append(area)\n",
    "\n",
    "# Nuclei mean intensities.\n",
    "# Create empty list to store mean intensities.\n",
    "nuc_intensities = []\n",
    "\n",
    "# Measure each nucleus intensity and append it to nuc_intensities.\n",
    "for i in range(num_obj):\n",
    "    intensity = np.sum(nuclei_obj[i] * channel_blue) / nuc_areas[i]\n",
    "    nuc_intensities.append(intensity)\n",
    "\n",
    "\n",
    "for i in range(num_obj):\n",
    "    print(f\"Nuclei {i + 1}: area = {nuc_areas[i]:>4} pixels ;\"\n",
    "          f\" intensity = {nuc_intensities[i]:.2f} per pixel.\")"
   ]
  },
  {
   "cell_type": "markdown",
   "id": "ac2f7d57-d376-45b3-8d91-307783d65442",
   "metadata": {},
   "source": [
    "La taille d'un pixel n'étant pas connue, ces mesures ne peuvent pas être exprimées avec les unités du système métrique.  \n",
    "\n",
    "Heureusement, ces mesures peuvent également être effectuées à l'aide du module *scikit-image*. La fonction `regionprops` du sous-module `measure` de *scikit-image* décrit un certain nombre de propriétés associées à chaque région étiquetée, dont l'aire, l'intensité moyenne, le périmètre, et l'excentricité. Ces propriétés sont accessibles *via* les attributs associés à l'objet renvoyé par la fonction (par exemple `.perimeter` pour le périmètre).\n",
    "\n",
    "Toutes les mesures réalisées seront stockés dans un dataframe Pandas (`nuclei_measure`).  \n",
    "\n",
    "### Mesure de l'aire et de l'intensité des noyaux avec une fonction de *scikit-image*"
   ]
  },
  {
   "cell_type": "code",
   "execution_count": null,
   "id": "336f9236-b2df-4f3f-917d-f4b64b592dc8",
   "metadata": {},
   "outputs": [],
   "source": [
    "nuclei_props = skimage.measure.regionprops(approved_lab,\n",
    "                                           intensity_image=channel_blue)\n",
    "\n",
    "measure_nuclei = pd.DataFrame(\n",
    "    {\"area\": [nuclei_props[i].area for i in range(num_obj)],\n",
    "     \"intensity\": [nuclei_props[i].mean_intensity for i in range(num_obj)],\n",
    "     \"perimeter\": [nuclei_props[i].perimeter for i in range(num_obj)],\n",
    "     \"eccentricity\": [nuclei_props[i].eccentricity for i in range(num_obj)]})\n",
    "\n",
    "measure_nuclei.to_csv(\"measure_nuclei.csv\", sep=\";\")"
   ]
  },
  {
   "cell_type": "code",
   "execution_count": null,
   "id": "f05f7dde-29b8-45b7-b918-95f6c16bee6a",
   "metadata": {},
   "outputs": [],
   "source": [
    "print(measure_nuclei)"
   ]
  },
  {
   "cell_type": "markdown",
   "id": "0b1b3535-997e-4816-846b-4a553231080b",
   "metadata": {},
   "source": [
    "## Visualisation des mesures effectuées\n",
    "La distribution de ces mesures peut être visualisée sous forme d'histogramme."
   ]
  },
  {
   "cell_type": "code",
   "execution_count": null,
   "id": "2c030ca2-498a-440b-9b2e-47e446a2ff1a",
   "metadata": {},
   "outputs": [],
   "source": [
    "# Create subplots to display all images in a single figure.\n",
    "fig, axes = plt.subplots(nrows=2, ncols=2, figsize=(21, 16))\n",
    "plt.rc(\"font\", size=15)\n",
    "\n",
    "# Make the array of axes 1-dimensional.\n",
    "axes = axes.ravel()\n",
    "\n",
    "for i, col in enumerate(measure_nuclei.columns):\n",
    "    axes[i].hist(measure_nuclei[col], bins=10)\n",
    "    axes[i].set_title(f\"Distribution of the {col}\")\n",
    "    axes[i].set_ylabel(\"Number of nuclei\")\n",
    "    axes[i].set_yticks([0, 1, 2])\n",
    "\n",
    "axes[0].set_xlabel(\"Area (pixel)\")\n",
    "axes[1].set_xlabel(\"Mean Intensity (per pixel)\")\n",
    "axes[2].set_xlabel(\"Perimeter (pixel side)\")\n",
    "axes[3].set_xlabel(\"Eccentricity (a.u.)\");"
   ]
  },
  {
   "cell_type": "markdown",
   "id": "7f9841d1-7670-4cc1-bd32-091e5bf2c361",
   "metadata": {},
   "source": [
    "### Représentation de l'aire des noyaux en fonction du périmètre\n",
    "Nous pouvons aussi représenter deux de ces mesures sous forme de nuage de points, ici par exemple l'aire et le périmètre."
   ]
  },
  {
   "cell_type": "code",
   "execution_count": null,
   "id": "d439b295-1e75-488e-9bfe-7d94901daa25",
   "metadata": {},
   "outputs": [],
   "source": [
    "plt.figure(figsize=(8, 6))\n",
    "plt.rc(\"font\", size=15)\n",
    "plt.plot(measure_nuclei[\"area\"], measure_nuclei[\"perimeter\"], \"s\")\n",
    "plt.title(\"Nucleus areas versus perimeters\")\n",
    "plt.xlabel(\"Area (pixel)\")\n",
    "plt.ylabel(\"Perimeter (pixel)\");"
   ]
  },
  {
   "cell_type": "markdown",
   "id": "e5528dab-9d73-443e-9053-945f76c5b648",
   "metadata": {},
   "source": [
    "## Représentation des mesures effectuées sur un graphique intéractif à l'aide du module *Plotly*\n",
    "Pour finir, nous pouvons utiliser la fonction `.add_trace()` du module `plotly` pour afficher les mesures des noyaux en passant la souris au-dessus de l'image."
   ]
  },
  {
   "cell_type": "code",
   "execution_count": null,
   "id": "7edcbfaf-5c9e-4af2-a331-1bd51a80a7f9",
   "metadata": {},
   "outputs": [],
   "source": [
    "fig = px.imshow(img)\n",
    "fig.update_layout(autosize=False, width=500, height=500)\n",
    "\n",
    "# For each label, add a filled scatter trace for its contour,\n",
    "# and display the properties of the label in the hover of this trace.\n",
    "for index in range(num_obj):\n",
    "    label_i = nuclei_props[index].label\n",
    "    contour = skimage.measure.find_contours(approved_lab == label_i)[0]\n",
    "    y, x = contour.T\n",
    "    hoverinfo = ''\n",
    "\n",
    "    for col in measure_nuclei.columns:\n",
    "        hoverinfo += f'<b>{col}: {measure_nuclei.loc[index, col]:.2f}</b><br>'\n",
    "\n",
    "    fig.add_trace(go.Scatter(\n",
    "        x=x, y=y, name=label_i,\n",
    "        mode='lines', fill='toself', showlegend=False,\n",
    "        hovertemplate=hoverinfo, hoveron='points+fills'))\n",
    "\n",
    "plotly.io.show(fig)"
   ]
  },
  {
   "cell_type": "code",
   "execution_count": null,
   "id": "54d6f0b8-6061-45ed-af72-900c76690c50",
   "metadata": {},
   "outputs": [],
   "source": []
  }
 ],
 "metadata": {
  "kernelspec": {
   "display_name": "Python 3 (ipykernel)",
   "language": "python",
   "name": "python3"
  },
  "language_info": {
   "codemirror_mode": {
    "name": "ipython",
    "version": 3
   },
   "file_extension": ".py",
   "mimetype": "text/x-python",
   "name": "python",
   "nbconvert_exporter": "python",
   "pygments_lexer": "ipython3",
   "version": "3.7.9"
  }
 },
 "nbformat": 4,
 "nbformat_minor": 5
}
