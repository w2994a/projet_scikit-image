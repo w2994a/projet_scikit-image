{
 "cells": [
  {
   "cell_type": "markdown",
   "id": "f8ecaea5-54bb-4d4d-8ac9-abaf2e221077",
   "metadata": {},
   "source": [
    "# Analyse d'une image de microscopie à l'aide du module scikit image\n",
    "Ce notebook à pour objectif d'ilustrer une utilisation simplifé du module scikit image pour l'analyse d'une image issue d'un microscope photonique à épifluorescence."
   ]
  },
  {
   "cell_type": "code",
   "execution_count": 1,
   "id": "6f12873f-0bbf-4618-9544-e17f0b9b238b",
   "metadata": {},
   "outputs": [],
   "source": [
    "import numpy as np\n",
    "import matplotlib.pyplot as plt\n",
    "import seaborn as sns\n",
    "import skimage.io\n",
    "import skimage.exposure\n",
    "import skimage.measure\n",
    "\n",
    "import sys\n",
    "import os\n",
    "from urllib.request import urlretrieve"
   ]
  },
  {
   "cell_type": "markdown",
   "id": "21b58f53-17c8-4cb1-980c-f3a1d34c849b",
   "metadata": {},
   "source": [
    "## Chargement de l'image à analyser, unzip de l'image et visualisation de l'image"
   ]
  },
  {
   "cell_type": "code",
   "execution_count": 2,
   "id": "8aaf37c0-ae79-428f-941f-60b96aeee905",
   "metadata": {},
   "outputs": [],
   "source": [
    "if not os.path.isfile('FluorescentCells.zip'):\n",
    "    print('Downloading the FASTA file for fluorescent cells image...')\n",
    "    try:\n",
    "        urlretrieve('https://imagej.nih.gov/ij/images/FluorescentCells.zip',\n",
    "            'FluorescentCells.zip')\n",
    "        print(\"ok\")\n",
    "    except:\n",
    "        print(\"Unable to download the file!\")\n",
    "    print('Done!')\n",
    "\n",
    "if not os.path.isfile(\"FluorescentCells.tif\"):\n",
    "    !unzip FluorescentCells.zip"
   ]
  },
  {
   "cell_type": "markdown",
   "id": "c7b5cbed-d9b5-4fe6-9589-36d6f58050ff",
   "metadata": {},
   "source": [
    "Char"
   ]
  },
  {
   "cell_type": "code",
   "execution_count": 54,
   "id": "15362e0a-84c9-45f0-8c53-624d3fb3ef0c",
   "metadata": {},
   "outputs": [],
   "source": [
    "img = skimage.io.imread(\"FluorescentCells.tif\")"
   ]
  }
 ],
 "metadata": {
  "kernelspec": {
   "display_name": "Python 3 (ipykernel)",
   "language": "python",
   "name": "python3"
  },
  "language_info": {
   "codemirror_mode": {
    "name": "ipython",
    "version": 3
   },
   "file_extension": ".py",
   "mimetype": "text/x-python",
   "name": "python",
   "nbconvert_exporter": "python",
   "pygments_lexer": "ipython3",
   "version": "3.7.9"
  }
 },
 "nbformat": 4,
 "nbformat_minor": 5
}
